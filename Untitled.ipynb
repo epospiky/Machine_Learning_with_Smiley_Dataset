{
 "cells": [
  {
   "cell_type": "code",
   "execution_count": null,
   "id": "12315508-454f-467b-b38a-9c89f3654252",
   "metadata": {},
   "outputs": [],
   "source": [
    "import numpy as np\n",
    "from sklearn.model_selection import train_test_split\n",
    "from keras.models import Sequential\n",
    "from keras.layers import Conv2D, MaxPooling2D, Flatten, Dense\n",
    "from skimage.transform import resize\n",
    "from sklearn.preprocessing import LabelBinarizer\n",
    "from keras.utils import to_categorical\n"
   ]
  },
  {
   "cell_type": "code",
   "execution_count": null,
   "id": "ab0345c2-1b30-4ad5-938c-09beaedf055b",
   "metadata": {},
   "outputs": [],
   "source": [
    "images = np.load(\"/mnt/c/users/admin/desktop/F21DL/smiley_dataset/smiley_X.npy\")#noiseless dataset\n",
    "classes = np.load(\"/mnt/c/users/admin/desktop/F21DL/smiley_dataset/smiley_Y.npy\")#noiseless dataset"
   ]
  },
  {
   "cell_type": "code",
   "execution_count": null,
   "id": "c4667f08-33db-4f8a-aa7c-2ac818285312",
   "metadata": {},
   "outputs": [],
   "source": [
    "\n",
    "\n",
    "#Resizing the images\n",
    "resized_images_for_CNN = [resize(img, (100,100)) for img in images]\n",
    "print(\"Resized images shape:\", resized_images_for_CNN[0].shape)\n",
    "\n",
    "\n",
    "# Split the data into training and validation sets\n",
    "images_CNN_train, images_CNN_test, classes_CNN_train, classes_CNN_test = train_test_split(resized_images_for_CNN, classes, test_size=0.2, random_state=42)\n"
   ]
  },
  {
   "cell_type": "code",
   "execution_count": null,
   "id": "26e5444c-37f2-4cc6-a8e6-ffe79d8212cf",
   "metadata": {},
   "outputs": [],
   "source": [
    "img_width = 100\n",
    "img_height = 100\n",
    "img_channels = 1\n",
    "num_classes = len(np.unique(classes))\n",
    "\n",
    "cnn_model = Sequential()\n",
    "cnn_model.add(Conv2D(32, (3, 3), activation='relu', input_shape=(img_width, img_height, img_channels)))\n",
    "cnn_model.add(MaxPooling2D((2, 2)))\n",
    "cnn_model.add(Flatten())\n",
    "cnn_model.add(Dense(64, activation='relu'))\n",
    "cnn_model.add(Dense(num_classes, activation='softmax'))\n",
    "cnn_model.compile(optimizer='adam', loss='categorical_crossentropy', metrics=['accuracy'])"
   ]
  },
  {
   "cell_type": "code",
   "execution_count": null,
   "id": "a1701cdc-dbc7-4480-b962-2359d3e41d2e",
   "metadata": {},
   "outputs": [],
   "source": [
    "\n",
    "# Convert labels to one-hot encoded format\n",
    "classes_train_categorical = to_categorical(classes_CNN_train, num_classes=num_classes)\n",
    "\n",
    "cnn_model.fit(np.array(images_CNN_train), classes_train_categorical, epochs=10, batch_size=32, validation_split=0.2)\n"
   ]
  },
  {
   "cell_type": "code",
   "execution_count": null,
   "id": "65a5d5ea-8f56-4bd9-bd14-66ba2252fa86",
   "metadata": {},
   "outputs": [],
   "source": [
    "#Converting test labels to one-hot encoded format\n",
    "\n",
    "classes_test_categorical = to_categorical(classes_CNN_test, num_classes=num_classes)\n",
    "\n",
    "\n",
    "test_loss, test_accuracy_cnn = cnn_model.evaluate(np.array(images_CNN_test), classes_test_categorical)\n",
    "\n",
    "print(\"Convolutional Neural Network (CNN) - Test Set Accuracy:\")\n",
    "print(\"Accuracy:\", test_accuracy_cnn)"
   ]
  },
  {
   "cell_type": "code",
   "execution_count": null,
   "id": "203a95a6-9a60-4e8a-8322-e2f5aa9ecb92",
   "metadata": {},
   "outputs": [],
   "source": [
    "test_loss, test_accuracy_cnn = cnn_model.evaluate(images_CNN_test, y_test_onehot)\n",
    "\n",
    "# Print the test accuracy for CNN\n",
    "print(\"Convolutional Neural Network (CNN) - Test Set Accuracy:\")\n",
    "print(\"Accuracy:\", test_accuracy_cnn)\n"
   ]
  },
  {
   "cell_type": "code",
   "execution_count": null,
   "id": "97ceeecf-e430-4c33-8730-6fe3ce264e24",
   "metadata": {},
   "outputs": [],
   "source": []
  },
  {
   "cell_type": "code",
   "execution_count": null,
   "id": "2d1b4895-8d1e-4fa5-aa81-368bfaac06cd",
   "metadata": {},
   "outputs": [],
   "source": []
  },
  {
   "cell_type": "code",
   "execution_count": null,
   "id": "5811eb90-284f-4a4f-8d95-e517e59f92ee",
   "metadata": {},
   "outputs": [],
   "source": []
  }
 ],
 "metadata": {
  "kernelspec": {
   "display_name": "Python 3 (ipykernel)",
   "language": "python",
   "name": "python3"
  },
  "language_info": {
   "codemirror_mode": {
    "name": "ipython",
    "version": 3
   },
   "file_extension": ".py",
   "mimetype": "text/x-python",
   "name": "python",
   "nbconvert_exporter": "python",
   "pygments_lexer": "ipython3",
   "version": "3.11.1"
  }
 },
 "nbformat": 4,
 "nbformat_minor": 5
}
