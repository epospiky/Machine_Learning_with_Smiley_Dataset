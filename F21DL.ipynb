{
 "cells": [
  {
   "cell_type": "code",
   "execution_count": 59,
   "id": "73fb4e5d",
   "metadata": {},
   "outputs": [],
   "source": [
    "import numpy as np\n",
    "import matplotlib.pyplot as plt\n",
    "from sklearn.model_selection import train_test_split\n",
    "from sklearn.naive_bayes import GaussianNB\n",
    "from sklearn.metrics import accuracy_score,recall_score,precision_score, f1_score, roc_auc_score, classification_report, confusion_matrix\n",
    "#for the 2nd part\n",
    "from sklearn.cluster import KMeans\n",
    "from sklearn.metrics import adjusted_rand_score\n",
    "from sklearn.metrics import normalized_mutual_info_score\n",
    "from sklearn.mixture import GaussianMixture\n",
    "from sklearn.cluster import AgglomerativeClustering\n",
    "from sklearn.cluster import DBSCAN\n",
    "from sklearn.metrics import silhouette_score\n"
   ]
  },
  {
   "cell_type": "code",
   "execution_count": 60,
   "id": "2469454a",
   "metadata": {},
   "outputs": [],
   "source": [
    "#loading the images\n",
    "images = np.load(\"/mnt/c/users/admin/desktop/F21DL/smiley_dataset/smiley_noisy_X.npy\")"
   ]
  },
  {
   "cell_type": "code",
   "execution_count": 61,
   "id": "fbf65915",
   "metadata": {},
   "outputs": [],
   "source": [
    "#loading the classes\n",
    "classes = np.load(\"/mnt/c/users/admin/desktop/F21DL/smiley_dataset/smiley_noisy_Y.npy\")"
   ]
  },
  {
   "cell_type": "code",
   "execution_count": 62,
   "id": "b8d2b480",
   "metadata": {},
   "outputs": [
    {
     "name": "stdout",
     "output_type": "stream",
     "text": [
      "Images shape: (204, 9, 9, 1)\n"
     ]
    }
   ],
   "source": [
    "print(\"Images shape:\", images.shape)\n"
   ]
  },
  {
   "cell_type": "code",
   "execution_count": 5,
   "id": "73d1641c",
   "metadata": {},
   "outputs": [
    {
     "name": "stdout",
     "output_type": "stream",
     "text": [
      "Classes shape: (204,)\n"
     ]
    }
   ],
   "source": [
    "print(\"Classes shape:\", classes.shape)"
   ]
  },
  {
   "cell_type": "code",
   "execution_count": 6,
   "id": "3c747996",
   "metadata": {},
   "outputs": [
    {
     "name": "stdout",
     "output_type": "stream",
     "text": [
      "Class: 0.0 Count: 72\n",
      "Class: 1.0 Count: 60\n",
      "Class: 2.0 Count: 72\n"
     ]
    }
   ],
   "source": [
    "#verifying the number of unique classes with their corresponding leabels\n",
    "# Get the unique classes and their counts\n",
    "unique_classes, class_counts = np.unique(classes, return_counts=True)\n",
    "# Print the unique classes and their counts\n",
    "for class_label, count in zip(unique_classes, class_counts):\n",
    "    print(\"Class:\", class_label, \"Count:\", count)\n"
   ]
  },
  {
   "cell_type": "code",
   "execution_count": 7,
   "id": "03f2d53b",
   "metadata": {},
   "outputs": [
    {
     "data": {
      "image/png": "[encoded data removed]",
      "text/plain": [
       "<Figure size 1000x400 with 5 Axes>"
      ]
     },
     "metadata": {},
     "output_type": "display_data"
    }
   ],
   "source": [
    "# Select some random indices for visualization\n",
    "indices = np.random.choice(len(images), size=5, replace=False)\n",
    "\n",
    "# Plot the selected images\n",
    "fig, axes = plt.subplots(1, len(indices), figsize=(10, 4))\n",
    "for i, index in enumerate(indices):\n",
    "    axes[i].imshow(images[index, :, :, 0], cmap='gray')\n",
    "    axes[i].set_title(f\"Class: {classes[index]}\")\n",
    "    axes[i].axis('off')\n",
    "plt.tight_layout()\n",
    "plt.show()"
   ]
  },
  {
   "cell_type": "code",
   "execution_count": 8,
   "id": "ea33db0a",
   "metadata": {},
   "outputs": [],
   "source": [
    "# Split the dataset into training and testing sets\n",
    "X_train, X_test, y_train, y_test = train_test_split(images, classes, test_size=0.2, random_state=42)"
   ]
  },
  {
   "cell_type": "code",
   "execution_count": 9,
   "id": "3786d3bf",
   "metadata": {},
   "outputs": [],
   "source": [
    "# Create an instance of the Naïve Bayes classifier\n",
    "naive_bayes = GaussianNB()\n",
    "\n"
   ]
  },
  {
   "cell_type": "code",
   "execution_count": 10,
   "id": "35e746eb",
   "metadata": {},
   "outputs": [
    {
     "data": {
      "text/html": [
       "<style>#sk-container-id-1 {color: black;background-color: white;}#sk-container-id-1 pre{padding: 0;}#sk-container-id-1 div.sk-toggleable {background-color: white;}#sk-container-id-1 label.sk-toggleable__label {cursor: pointer;display: block;width: 100%;margin-bottom: 0;padding: 0.3em;box-sizing: border-box;text-align: center;}#sk-container-id-1 label.sk-toggleable__label-arrow:before {content: \"▸\";float: left;margin-right: 0.25em;color: #696969;}#sk-container-id-1 label.sk-toggleable__label-arrow:hover:before {color: black;}#sk-container-id-1 div.sk-estimator:hover label.sk-toggleable__label-arrow:before {color: black;}#sk-container-id-1 div.sk-toggleable__content {max-height: 0;max-width: 0;overflow: hidden;text-align: left;background-color: #f0f8ff;}#sk-container-id-1 div.sk-toggleable__content pre {margin: 0.2em;color: black;border-radius: 0.25em;background-color: #f0f8ff;}#sk-container-id-1 input.sk-toggleable__control:checked~div.sk-toggleable__content {max-height: 200px;max-width: 100%;overflow: auto;}#sk-container-id-1 input.sk-toggleable__control:checked~label.sk-toggleable__label-arrow:before {content: \"▾\";}#sk-container-id-1 div.sk-estimator input.sk-toggleable__control:checked~label.sk-toggleable__label {background-color: #d4ebff;}#sk-container-id-1 div.sk-label input.sk-toggleable__control:checked~label.sk-toggleable__label {background-color: #d4ebff;}#sk-container-id-1 input.sk-hidden--visually {border: 0;clip: rect(1px 1px 1px 1px);clip: rect(1px, 1px, 1px, 1px);height: 1px;margin: -1px;overflow: hidden;padding: 0;position: absolute;width: 1px;}#sk-container-id-1 div.sk-estimator {font-family: monospace;background-color: #f0f8ff;border: 1px dotted black;border-radius: 0.25em;box-sizing: border-box;margin-bottom: 0.5em;}#sk-container-id-1 div.sk-estimator:hover {background-color: #d4ebff;}#sk-container-id-1 div.sk-parallel-item::after {content: \"\";width: 100%;border-bottom: 1px solid gray;flex-grow: 1;}#sk-container-id-1 div.sk-label:hover label.sk-toggleable__label {background-color: #d4ebff;}#sk-container-id-1 div.sk-serial::before {content: \"\";position: absolute;border-left: 1px solid gray;box-sizing: border-box;top: 0;bottom: 0;left: 50%;z-index: 0;}#sk-container-id-1 div.sk-serial {display: flex;flex-direction: column;align-items: center;background-color: white;padding-right: 0.2em;padding-left: 0.2em;position: relative;}#sk-container-id-1 div.sk-item {position: relative;z-index: 1;}#sk-container-id-1 div.sk-parallel {display: flex;align-items: stretch;justify-content: center;background-color: white;position: relative;}#sk-container-id-1 div.sk-item::before, #sk-container-id-1 div.sk-parallel-item::before {content: \"\";position: absolute;border-left: 1px solid gray;box-sizing: border-box;top: 0;bottom: 0;left: 50%;z-index: -1;}#sk-container-id-1 div.sk-parallel-item {display: flex;flex-direction: column;z-index: 1;position: relative;background-color: white;}#sk-container-id-1 div.sk-parallel-item:first-child::after {align-self: flex-end;width: 50%;}#sk-container-id-1 div.sk-parallel-item:last-child::after {align-self: flex-start;width: 50%;}#sk-container-id-1 div.sk-parallel-item:only-child::after {width: 0;}#sk-container-id-1 div.sk-dashed-wrapped {border: 1px dashed gray;margin: 0 0.4em 0.5em 0.4em;box-sizing: border-box;padding-bottom: 0.4em;background-color: white;}#sk-container-id-1 div.sk-label label {font-family: monospace;font-weight: bold;display: inline-block;line-height: 1.2em;}#sk-container-id-1 div.sk-label-container {text-align: center;}#sk-container-id-1 div.sk-container {/* jupyter's `normalize.less` sets `[hidden] { display: none; }` but bootstrap.min.css set `[hidden] { display: none !important; }` so we also need the `!important` here to be able to override the default hidden behavior on the sphinx rendered scikit-learn.org. See: https://github.com/scikit-learn/scikit-learn/issues/21755 */display: inline-block !important;position: relative;}#sk-container-id-1 div.sk-text-repr-fallback {display: none;}</style><div id=\"sk-container-id-1\" class=\"sk-top-container\"><div class=\"sk-text-repr-fallback\"><pre>GaussianNB()</pre><b>In a Jupyter environment, please rerun this cell to show the HTML representation or trust the notebook. <br />On GitHub, the HTML representation is unable to render, please try loading this page with nbviewer.org.</b></div><div class=\"sk-container\" hidden><div class=\"sk-item\"><div class=\"sk-estimator sk-toggleable\"><input class=\"sk-toggleable__control sk-hidden--visually\" id=\"sk-estimator-id-1\" type=\"checkbox\" checked><label for=\"sk-estimator-id-1\" class=\"sk-toggleable__label sk-toggleable__label-arrow\">GaussianNB</label><div class=\"sk-toggleable__content\"><pre>GaussianNB()</pre></div></div></div></div></div>"
      ],
      "text/plain": [
       "GaussianNB()"
      ]
     },
     "execution_count": 10,
     "metadata": {},
     "output_type": "execute_result"
    }
   ],
   "source": [
    "# Train the classifier on the training set\n",
    "naive_bayes.fit(X_train.reshape(X_train.shape[0], -1), y_train)\n",
    "\n"
   ]
  },
  {
   "cell_type": "code",
   "execution_count": 11,
   "id": "449f30b0",
   "metadata": {},
   "outputs": [],
   "source": [
    "# Reshape the testing set to match the input format\n",
    "X_test_reshaped = X_test.reshape(X_test.shape[0], -1)\n"
   ]
  },
  {
   "cell_type": "code",
   "execution_count": 12,
   "id": "32bea04b",
   "metadata": {},
   "outputs": [],
   "source": [
    "\n",
    "# Make predictions on the testing set\n",
    "y_pred = naive_bayes.predict(X_test_reshaped)\n"
   ]
  },
  {
   "cell_type": "code",
   "execution_count": 13,
   "id": "924d9168",
   "metadata": {},
   "outputs": [
    {
     "name": "stdout",
     "output_type": "stream",
     "text": [
      "Accuracy: 0.6829268292682927\n"
     ]
    }
   ],
   "source": [
    "\n",
    "# Calculate and print the accuracy\n",
    "accuracy = accuracy_score(y_test, y_pred)\n",
    "print(\"Accuracy:\", accuracy)\n",
    "\n"
   ]
  },
  {
   "cell_type": "code",
   "execution_count": 14,
   "id": "6a9f472d",
   "metadata": {},
   "outputs": [
    {
     "name": "stdout",
     "output_type": "stream",
     "text": [
      "Classification Report:\n",
      "               precision    recall  f1-score   support\n",
      "\n",
      "         0.0       0.83      0.67      0.74        15\n",
      "         1.0       0.39      0.78      0.52         9\n",
      "         2.0       1.00      0.65      0.79        17\n",
      "\n",
      "    accuracy                           0.68        41\n",
      "   macro avg       0.74      0.70      0.68        41\n",
      "weighted avg       0.80      0.68      0.71        41\n",
      "\n"
     ]
    }
   ],
   "source": [
    "# Generate and print the classification report\n",
    "classification_report = classification_report(y_test, y_pred)\n",
    "print(\"Classification Report:\\n\", classification_report)\n",
    "\n"
   ]
  },
  {
   "cell_type": "code",
   "execution_count": 15,
   "id": "83f770ff",
   "metadata": {},
   "outputs": [
    {
     "name": "stdout",
     "output_type": "stream",
     "text": [
      "Confusion Matrix:\n",
      " [[10  5  0]\n",
      " [ 2  7  0]\n",
      " [ 0  6 11]]\n"
     ]
    }
   ],
   "source": [
    "# Generate and print the confusion matrix\n",
    "confusion_mat = confusion_matrix(y_test, y_pred)\n",
    "print(\"Confusion Matrix:\\n\", confusion_mat)\n"
   ]
  },
  {
   "cell_type": "code",
   "execution_count": 16,
   "id": "5d83c449",
   "metadata": {},
   "outputs": [],
   "source": [
    "\n",
    "# Calculate and print TP rate, FP rate, precision, recall, and F measure\n",
    "tp_rate = confusion_mat[1, 1] / (confusion_mat[1, 1] + confusion_mat[1, 0])\n",
    "fp_rate = confusion_mat[0, 1] / (confusion_mat[0, 1] + confusion_mat[0, 0])\n",
    "precision = confusion_mat[1, 1] / (confusion_mat[1, 1] + confusion_mat[0, 1])\n",
    "recall = tp_rate\n",
    "f_measure = 2 * (precision * recall) / (precision + recall)\n"
   ]
  },
  {
   "cell_type": "code",
   "execution_count": 17,
   "id": "1402ec6b",
   "metadata": {},
   "outputs": [
    {
     "name": "stdout",
     "output_type": "stream",
     "text": [
      "TP Rate: 0.7777777777777778\n",
      "FP Rate: 0.3333333333333333\n",
      "Precision: 0.5833333333333334\n",
      "Recall: 0.7777777777777778\n",
      "F Measure: 0.6666666666666666\n"
     ]
    }
   ],
   "source": [
    "\n",
    "print(\"TP Rate:\", tp_rate)\n",
    "print(\"FP Rate:\", fp_rate)\n",
    "print(\"Precision:\", precision)\n",
    "print(\"Recall:\", recall)\n",
    "print(\"F Measure:\", f_measure)\n",
    "\n"
   ]
  },
  {
   "cell_type": "code",
   "execution_count": 18,
   "id": "2f4d4ac9",
   "metadata": {},
   "outputs": [
    {
     "name": "stdout",
     "output_type": "stream",
     "text": [
      "ROC Area: 0.8579714471258589\n"
     ]
    }
   ],
   "source": [
    "# Calculate and print ROC area\n",
    "if len(unique_classes) == 2:  # Binary classification\n",
    "    roc_area = roc_auc_score(y_test, y_pred)\n",
    "else:  # Multi-class classification\n",
    "    y_prob = naive_bayes.predict_proba(X_test_reshaped)\n",
    "    roc_area = roc_auc_score(y_test, y_prob, multi_class='ovr')\n",
    "print(\"ROC Area:\", roc_area)"
   ]
  },
  {
   "cell_type": "code",
   "execution_count": 41,
   "id": "641ca8f8",
   "metadata": {},
   "outputs": [],
   "source": [
    "#THIS IS THE BEGINING OF THE SECOND PART OF THE ASSIGNMENT\n",
    "#PART TWO BEGINS HERE\n",
    "evaluation_scores = []\n",
    "images_2d = images.reshape(images.shape[0], -1)\n"
   ]
  },
  {
   "cell_type": "code",
   "execution_count": 42,
   "id": "b75a73f2",
   "metadata": {},
   "outputs": [
    {
     "data": {
      "text/html": [
       "<style>#sk-container-id-5 {color: black;background-color: white;}#sk-container-id-5 pre{padding: 0;}#sk-container-id-5 div.sk-toggleable {background-color: white;}#sk-container-id-5 label.sk-toggleable__label {cursor: pointer;display: block;width: 100%;margin-bottom: 0;padding: 0.3em;box-sizing: border-box;text-align: center;}#sk-container-id-5 label.sk-toggleable__label-arrow:before {content: \"▸\";float: left;margin-right: 0.25em;color: #696969;}#sk-container-id-5 label.sk-toggleable__label-arrow:hover:before {color: black;}#sk-container-id-5 div.sk-estimator:hover label.sk-toggleable__label-arrow:before {color: black;}#sk-container-id-5 div.sk-toggleable__content {max-height: 0;max-width: 0;overflow: hidden;text-align: left;background-color: #f0f8ff;}#sk-container-id-5 div.sk-toggleable__content pre {margin: 0.2em;color: black;border-radius: 0.25em;background-color: #f0f8ff;}#sk-container-id-5 input.sk-toggleable__control:checked~div.sk-toggleable__content {max-height: 200px;max-width: 100%;overflow: auto;}#sk-container-id-5 input.sk-toggleable__control:checked~label.sk-toggleable__label-arrow:before {content: \"▾\";}#sk-container-id-5 div.sk-estimator input.sk-toggleable__control:checked~label.sk-toggleable__label {background-color: #d4ebff;}#sk-container-id-5 div.sk-label input.sk-toggleable__control:checked~label.sk-toggleable__label {background-color: #d4ebff;}#sk-container-id-5 input.sk-hidden--visually {border: 0;clip: rect(1px 1px 1px 1px);clip: rect(1px, 1px, 1px, 1px);height: 1px;margin: -1px;overflow: hidden;padding: 0;position: absolute;width: 1px;}#sk-container-id-5 div.sk-estimator {font-family: monospace;background-color: #f0f8ff;border: 1px dotted black;border-radius: 0.25em;box-sizing: border-box;margin-bottom: 0.5em;}#sk-container-id-5 div.sk-estimator:hover {background-color: #d4ebff;}#sk-container-id-5 div.sk-parallel-item::after {content: \"\";width: 100%;border-bottom: 1px solid gray;flex-grow: 1;}#sk-container-id-5 div.sk-label:hover label.sk-toggleable__label {background-color: #d4ebff;}#sk-container-id-5 div.sk-serial::before {content: \"\";position: absolute;border-left: 1px solid gray;box-sizing: border-box;top: 0;bottom: 0;left: 50%;z-index: 0;}#sk-container-id-5 div.sk-serial {display: flex;flex-direction: column;align-items: center;background-color: white;padding-right: 0.2em;padding-left: 0.2em;position: relative;}#sk-container-id-5 div.sk-item {position: relative;z-index: 1;}#sk-container-id-5 div.sk-parallel {display: flex;align-items: stretch;justify-content: center;background-color: white;position: relative;}#sk-container-id-5 div.sk-item::before, #sk-container-id-5 div.sk-parallel-item::before {content: \"\";position: absolute;border-left: 1px solid gray;box-sizing: border-box;top: 0;bottom: 0;left: 50%;z-index: -1;}#sk-container-id-5 div.sk-parallel-item {display: flex;flex-direction: column;z-index: 1;position: relative;background-color: white;}#sk-container-id-5 div.sk-parallel-item:first-child::after {align-self: flex-end;width: 50%;}#sk-container-id-5 div.sk-parallel-item:last-child::after {align-self: flex-start;width: 50%;}#sk-container-id-5 div.sk-parallel-item:only-child::after {width: 0;}#sk-container-id-5 div.sk-dashed-wrapped {border: 1px dashed gray;margin: 0 0.4em 0.5em 0.4em;box-sizing: border-box;padding-bottom: 0.4em;background-color: white;}#sk-container-id-5 div.sk-label label {font-family: monospace;font-weight: bold;display: inline-block;line-height: 1.2em;}#sk-container-id-5 div.sk-label-container {text-align: center;}#sk-container-id-5 div.sk-container {/* jupyter's `normalize.less` sets `[hidden] { display: none; }` but bootstrap.min.css set `[hidden] { display: none !important; }` so we also need the `!important` here to be able to override the default hidden behavior on the sphinx rendered scikit-learn.org. See: https://github.com/scikit-learn/scikit-learn/issues/21755 */display: inline-block !important;position: relative;}#sk-container-id-5 div.sk-text-repr-fallback {display: none;}</style><div id=\"sk-container-id-5\" class=\"sk-top-container\"><div class=\"sk-text-repr-fallback\"><pre>KMeans(n_clusters=3, n_init=10, random_state=42)</pre><b>In a Jupyter environment, please rerun this cell to show the HTML representation or trust the notebook. <br />On GitHub, the HTML representation is unable to render, please try loading this page with nbviewer.org.</b></div><div class=\"sk-container\" hidden><div class=\"sk-item\"><div class=\"sk-estimator sk-toggleable\"><input class=\"sk-toggleable__control sk-hidden--visually\" id=\"sk-estimator-id-5\" type=\"checkbox\" checked><label for=\"sk-estimator-id-5\" class=\"sk-toggleable__label sk-toggleable__label-arrow\">KMeans</label><div class=\"sk-toggleable__content\"><pre>KMeans(n_clusters=3, n_init=10, random_state=42)</pre></div></div></div></div></div>"
      ],
      "text/plain": [
       "KMeans(n_clusters=3, n_init=10, random_state=42)"
      ]
     },
     "execution_count": 42,
     "metadata": {},
     "output_type": "execute_result"
    }
   ],
   "source": [
    "# Create an instance of the KMeans clustering algorithm\n",
    "kmeans = KMeans(n_clusters=3, n_init=10, random_state=42)\n",
    "\n",
    "# Fit the k-means algorithm to the data\n",
    "kmeans.fit(images_2d)\n"
   ]
  },
  {
   "cell_type": "code",
   "execution_count": 43,
   "id": "d20b5de1",
   "metadata": {},
   "outputs": [],
   "source": [
    "# Get the predicted cluster labels for the samples\n",
    "cluster_labels = kmeans.labels_"
   ]
  },
  {
   "cell_type": "code",
   "execution_count": 44,
   "id": "9ca9ecb6",
   "metadata": {},
   "outputs": [
    {
     "data": {
      "image/png": "[encoded data removed]",
      "text/plain": [
       "<Figure size 800x300 with 3 Axes>"
      ]
     },
     "metadata": {},
     "output_type": "display_data"
    }
   ],
   "source": [
    "# Get the cluster centers (centroids)\n",
    "cluster_centers = kmeans.cluster_centers_\n",
    "\n",
    "# Define the image dimensions\n",
    "image_height = 9\n",
    "image_width = 9\n",
    "\n",
    "# Plot the cluster centers\n",
    "plt.figure(figsize=(8, 3))\n",
    "for i, center in enumerate(cluster_centers):\n",
    "    plt.subplot(1, len(cluster_centers), i + 1)\n",
    "    plt.imshow(center.reshape((image_height, image_width)), cmap='gray')\n",
    "    plt.axis('off')\n",
    "    plt.title(f'Cluster {i+1}')\n",
    "plt.tight_layout()\n",
    "plt.show()\n"
   ]
  },
  {
   "cell_type": "code",
   "execution_count": 45,
   "id": "2c49e02a",
   "metadata": {},
   "outputs": [
    {
     "name": "stdout",
     "output_type": "stream",
     "text": [
      "Adjusted Rand Index (ARI): 0.31288134543314644\n"
     ]
    }
   ],
   "source": [
    "\n",
    "\n",
    "# Calculate the ARI between the cluster labels and the ground truth labels\n",
    "kmeans_ari = adjusted_rand_score(classes, cluster_labels)\n",
    "print(\"Adjusted Rand Index (ARI):\", kmeans_ari)\n"
   ]
  },
  {
   "cell_type": "code",
   "execution_count": 46,
   "id": "c72e8eae",
   "metadata": {},
   "outputs": [
    {
     "name": "stdout",
     "output_type": "stream",
     "text": [
      "NMI SCORe: 0.4082922230357654\n"
     ]
    }
   ],
   "source": [
    "#implemeningt NMI for Kmeans clustering\n",
    "kmeans_nmi = normalized_mutual_info_score(classes, cluster_labels)\n",
    "#print the NMI score\n",
    "print(\"NMI SCORe:\", kmeans_nmi)"
   ]
  },
  {
   "cell_type": "code",
   "execution_count": 47,
   "id": "dc79f242",
   "metadata": {},
   "outputs": [],
   "source": [
    "# Store the scores for K-means\n",
    "kmeans_scores = {\n",
    "    \"ARI\": kmeans_ari,\n",
    "    \"NMI\": kmeans_nmi\n",
    "}\n",
    "evaluation_scores.append((\"K-means\", kmeans_scores))\n"
   ]
  },
  {
   "cell_type": "code",
   "execution_count": 48,
   "id": "07c9118a",
   "metadata": {},
   "outputs": [
    {
     "name": "stdout",
     "output_type": "stream",
     "text": [
      "Adjusted Rand Index (ARI): 0.1738089537945894\n"
     ]
    }
   ],
   "source": [
    "#implementing EM cLustering using GMM\n",
    "\n",
    "# Create an instance of the GaussianMixture algorithm\n",
    "gmm = GaussianMixture(n_components=3, random_state=42)\n",
    "\n",
    "# Fit the GMM to the data\n",
    "gmm.fit(images_2d)\n",
    "\n",
    "# Get the cluster labels\n",
    "gmm_labels = gmm.predict(images_2d)\n",
    "\n",
    "# Calculate the ARI for the GMM clustering\n",
    "gmm_ari = adjusted_rand_score(classes, gmm_labels)\n",
    "\n",
    "# Print the ARI score\n",
    "print(\"Adjusted Rand Index (ARI):\", gmm_ari)"
   ]
  },
  {
   "cell_type": "code",
   "execution_count": 49,
   "id": "3fa64560",
   "metadata": {},
   "outputs": [
    {
     "name": "stdout",
     "output_type": "stream",
     "text": [
      "NMI SCORE: 0.2620522555057271\n"
     ]
    }
   ],
   "source": [
    "#implemeningt NMI for GMM clustering\n",
    "gmm_nmi = normalized_mutual_info_score(classes, gmm_labels)\n",
    "#print the NMI score\n",
    "print(\"NMI SCORE:\", gmm_nmi)"
   ]
  },
  {
   "cell_type": "code",
   "execution_count": 50,
   "id": "12f27d7b",
   "metadata": {},
   "outputs": [],
   "source": [
    "# Store the scores for GMM\n",
    "gmm_scores = {\n",
    "    \"ARI\": gmm_ari,\n",
    "    \"NMI\": gmm_nmi\n",
    "}\n",
    "evaluation_scores.append((\"GMM\", gmm_scores))"
   ]
  },
  {
   "cell_type": "code",
   "execution_count": 51,
   "id": "c923b39e",
   "metadata": {},
   "outputs": [
    {
     "name": "stdout",
     "output_type": "stream",
     "text": [
      "Evaluation Metric Score: 0.31288134543314644\n"
     ]
    }
   ],
   "source": [
    "#implementing Hierarchical Clustering\n",
    "# Create an instance of the AgglomerativeClustering algorithm\n",
    "hierarchical = AgglomerativeClustering(n_clusters=3)\n",
    "\n",
    "# Fit the hierarchical clustering algorithm to the data\n",
    "hierarchical.fit(images_2d)\n",
    "\n",
    "# Get the cluster labels\n",
    "hierarchical_labels = hierarchical.labels_\n",
    "# Calculate the ARI for the hierarchical clustering\n",
    "hierarchical_ari = adjusted_rand_score(classes, hierarchical_labels)\n",
    "print(\"Evaluation Metric Score:\", hierarchical_ari)"
   ]
  },
  {
   "cell_type": "code",
   "execution_count": 52,
   "id": "5d30c6a3",
   "metadata": {},
   "outputs": [
    {
     "name": "stdout",
     "output_type": "stream",
     "text": [
      "NMI SCORE: 0.4082922230357654\n"
     ]
    }
   ],
   "source": [
    "#implemeningt NMI for HIERARCHICAL clustering\n",
    "hierarchical_nmi = normalized_mutual_info_score(classes, hierarchical_labels)\n",
    "#print the NMI score\n",
    "print(\"NMI SCORE:\", hierarchical_nmi)"
   ]
  },
  {
   "cell_type": "code",
   "execution_count": 53,
   "id": "83f6de28",
   "metadata": {},
   "outputs": [],
   "source": [
    "# Store the scores for Hierarchical clustering\n",
    "hierarchical_scores = {\n",
    "    \"ARI\": hierarchical_ari,\n",
    "    \"NMI\": hierarchical_nmi\n",
    "}\n",
    "evaluation_scores.append((\"Hierarchical\", hierarchical_scores))"
   ]
  },
  {
   "cell_type": "code",
   "execution_count": 55,
   "id": "cf7fa299",
   "metadata": {},
   "outputs": [
    {
     "name": "stdout",
     "output_type": "stream",
     "text": [
      "0.31288134543314644\n"
     ]
    }
   ],
   "source": [
    "# Accessing the scores for K-means\n",
    "kmeans_scores = evaluation_scores[0][1]\n",
    "kmeans_ari = kmeans_scores[\"ARI\"]\n",
    "kmeans_nmi = kmeans_scores[\"NMI\"]\n",
    "print(kmeans_ari)"
   ]
  },
  {
   "cell_type": "code",
   "execution_count": 69,
   "id": "2996661c",
   "metadata": {},
   "outputs": [
    {
     "name": "stdout",
     "output_type": "stream",
     "text": [
      "Number of Clusters:2\t Silhouette Score:0.18165692033557343\n",
      "Number of Clusters:3\t Silhouette Score:0.23420250724513783\n",
      "Number of Clusters:4\t Silhouette Score:0.26534922414551465\n",
      "Number of Clusters:5\t Silhouette Score:0.24599081156829672\n",
      "Number of Clusters:6\t Silhouette Score:0.26690535743739685\n",
      "Number of Clusters:7\t Silhouette Score:0.2864274295083049\n",
      "Number of Clusters:8\t Silhouette Score:0.2642849222615735\n",
      "Number of Clusters:9\t Silhouette Score:0.26002276500616256\n"
     ]
    }
   ],
   "source": [
    "for num_clusters in range(2,10):\n",
    "    kmeans = KMeans(n_clusters = num_clusters,n_init = 10, random_state = 42)\n",
    "    kmeans.fit(images_2d)\n",
    "    cluster_labels = kmeans.labels_\n",
    "    silhouette_avg = silhouette_score(images_2d, cluster_labels)\n",
    "    print(f\"Number of Clusters:{num_clusters}\\t Silhouette Score:{silhouette_avg}\")"
   ]
  },
  {
   "cell_type": "code",
   "execution_count": 76,
   "id": "ff58248e",
   "metadata": {
    "scrolled": true
   },
   "outputs": [
    {
     "name": "stderr",
     "output_type": "stream",
     "text": [
      "/home/epospiky/.local/lib/python3.10/site-packages/sklearn/cluster/_kmeans.py:870: FutureWarning: The default value of `n_init` will change from 10 to 'auto' in 1.4. Set the value of `n_init` explicitly to suppress the warning\n",
      "  warnings.warn(\n"
     ]
    },
    {
     "name": "stdout",
     "output_type": "stream",
     "text": [
      "K-means: Number of Clusters: 2\t Silhouette Score: 0.18165692033557343\t ARI: 0.338218021142122\n",
      "Hierarchical Clustering: Number of Clusters: 2\t Silhouette Score: 0.17680253469372778\t ARI: 0.0900497790704178\n"
     ]
    },
    {
     "ename": "ValueError",
     "evalue": "Number of labels is 1. Valid values are 2 to n_samples - 1 (inclusive)",
     "output_type": "error",
     "traceback": [
      "\u001b[0;31m---------------------------------------------------------------------------\u001b[0m",
      "\u001b[0;31mValueError\u001b[0m                                Traceback (most recent call last)",
      "Cell \u001b[0;32mIn[76], line 31\u001b[0m\n\u001b[1;32m     29\u001b[0m dbscan\u001b[38;5;241m.\u001b[39mfit(images_2d)\n\u001b[1;32m     30\u001b[0m dbscan_labels \u001b[38;5;241m=\u001b[39m dbscan\u001b[38;5;241m.\u001b[39mlabels_\n\u001b[0;32m---> 31\u001b[0m dbscan_silhouette \u001b[38;5;241m=\u001b[39m \u001b[43msilhouette_score\u001b[49m\u001b[43m(\u001b[49m\u001b[43mimages_2d\u001b[49m\u001b[43m,\u001b[49m\u001b[43m \u001b[49m\u001b[43mdbscan_labels\u001b[49m\u001b[43m)\u001b[49m\n\u001b[1;32m     32\u001b[0m dbscan_ari \u001b[38;5;241m=\u001b[39m adjusted_rand_score(classes, dbscan_labels)\n\u001b[1;32m     33\u001b[0m \u001b[38;5;28mprint\u001b[39m(\u001b[38;5;124mf\u001b[39m\u001b[38;5;124m\"\u001b[39m\u001b[38;5;124mDBSCAN: Number of Clusters: \u001b[39m\u001b[38;5;132;01m{\u001b[39;00m\u001b[38;5;28mlen\u001b[39m(\u001b[38;5;28mset\u001b[39m(dbscan_labels))\u001b[38;5;132;01m}\u001b[39;00m\u001b[38;5;130;01m\\t\u001b[39;00m\u001b[38;5;124m Silhouette Score: \u001b[39m\u001b[38;5;132;01m{\u001b[39;00mdbscan_silhouette\u001b[38;5;132;01m}\u001b[39;00m\u001b[38;5;130;01m\\t\u001b[39;00m\u001b[38;5;124m ARI: \u001b[39m\u001b[38;5;132;01m{\u001b[39;00mdbscan_ari\u001b[38;5;132;01m}\u001b[39;00m\u001b[38;5;124m\"\u001b[39m)\n",
      "File \u001b[0;32m~/.local/lib/python3.10/site-packages/sklearn/metrics/cluster/_unsupervised.py:117\u001b[0m, in \u001b[0;36msilhouette_score\u001b[0;34m(X, labels, metric, sample_size, random_state, **kwds)\u001b[0m\n\u001b[1;32m    115\u001b[0m     \u001b[38;5;28;01melse\u001b[39;00m:\n\u001b[1;32m    116\u001b[0m         X, labels \u001b[38;5;241m=\u001b[39m X[indices], labels[indices]\n\u001b[0;32m--> 117\u001b[0m \u001b[38;5;28;01mreturn\u001b[39;00m np\u001b[38;5;241m.\u001b[39mmean(\u001b[43msilhouette_samples\u001b[49m\u001b[43m(\u001b[49m\u001b[43mX\u001b[49m\u001b[43m,\u001b[49m\u001b[43m \u001b[49m\u001b[43mlabels\u001b[49m\u001b[43m,\u001b[49m\u001b[43m \u001b[49m\u001b[43mmetric\u001b[49m\u001b[38;5;241;43m=\u001b[39;49m\u001b[43mmetric\u001b[49m\u001b[43m,\u001b[49m\u001b[43m \u001b[49m\u001b[38;5;241;43m*\u001b[39;49m\u001b[38;5;241;43m*\u001b[39;49m\u001b[43mkwds\u001b[49m\u001b[43m)\u001b[49m)\n",
      "File \u001b[0;32m~/.local/lib/python3.10/site-packages/sklearn/metrics/cluster/_unsupervised.py:231\u001b[0m, in \u001b[0;36msilhouette_samples\u001b[0;34m(X, labels, metric, **kwds)\u001b[0m\n\u001b[1;32m    229\u001b[0m n_samples \u001b[38;5;241m=\u001b[39m \u001b[38;5;28mlen\u001b[39m(labels)\n\u001b[1;32m    230\u001b[0m label_freqs \u001b[38;5;241m=\u001b[39m np\u001b[38;5;241m.\u001b[39mbincount(labels)\n\u001b[0;32m--> 231\u001b[0m \u001b[43mcheck_number_of_labels\u001b[49m\u001b[43m(\u001b[49m\u001b[38;5;28;43mlen\u001b[39;49m\u001b[43m(\u001b[49m\u001b[43mle\u001b[49m\u001b[38;5;241;43m.\u001b[39;49m\u001b[43mclasses_\u001b[49m\u001b[43m)\u001b[49m\u001b[43m,\u001b[49m\u001b[43m \u001b[49m\u001b[43mn_samples\u001b[49m\u001b[43m)\u001b[49m\n\u001b[1;32m    233\u001b[0m kwds[\u001b[38;5;124m\"\u001b[39m\u001b[38;5;124mmetric\u001b[39m\u001b[38;5;124m\"\u001b[39m] \u001b[38;5;241m=\u001b[39m metric\n\u001b[1;32m    234\u001b[0m reduce_func \u001b[38;5;241m=\u001b[39m functools\u001b[38;5;241m.\u001b[39mpartial(\n\u001b[1;32m    235\u001b[0m     _silhouette_reduce, labels\u001b[38;5;241m=\u001b[39mlabels, label_freqs\u001b[38;5;241m=\u001b[39mlabel_freqs\n\u001b[1;32m    236\u001b[0m )\n",
      "File \u001b[0;32m~/.local/lib/python3.10/site-packages/sklearn/metrics/cluster/_unsupervised.py:33\u001b[0m, in \u001b[0;36mcheck_number_of_labels\u001b[0;34m(n_labels, n_samples)\u001b[0m\n\u001b[1;32m     22\u001b[0m \u001b[38;5;250m\u001b[39m\u001b[38;5;124;03m\"\"\"Check that number of labels are valid.\u001b[39;00m\n\u001b[1;32m     23\u001b[0m \n\u001b[1;32m     24\u001b[0m \u001b[38;5;124;03mParameters\u001b[39;00m\n\u001b[0;32m   (...)\u001b[0m\n\u001b[1;32m     30\u001b[0m \u001b[38;5;124;03m    Number of samples.\u001b[39;00m\n\u001b[1;32m     31\u001b[0m \u001b[38;5;124;03m\"\"\"\u001b[39;00m\n\u001b[1;32m     32\u001b[0m \u001b[38;5;28;01mif\u001b[39;00m \u001b[38;5;129;01mnot\u001b[39;00m \u001b[38;5;241m1\u001b[39m \u001b[38;5;241m<\u001b[39m n_labels \u001b[38;5;241m<\u001b[39m n_samples:\n\u001b[0;32m---> 33\u001b[0m     \u001b[38;5;28;01mraise\u001b[39;00m \u001b[38;5;167;01mValueError\u001b[39;00m(\n\u001b[1;32m     34\u001b[0m         \u001b[38;5;124m\"\u001b[39m\u001b[38;5;124mNumber of labels is \u001b[39m\u001b[38;5;132;01m%d\u001b[39;00m\u001b[38;5;124m. Valid values are 2 to n_samples - 1 (inclusive)\u001b[39m\u001b[38;5;124m\"\u001b[39m\n\u001b[1;32m     35\u001b[0m         \u001b[38;5;241m%\u001b[39m n_labels\n\u001b[1;32m     36\u001b[0m     )\n",
      "\u001b[0;31mValueError\u001b[0m: Number of labels is 1. Valid values are 2 to n_samples - 1 (inclusive)"
     ]
    }
   ],
   "source": [
    "from sklearn.cluster import KMeans, AgglomerativeClustering, DBSCAN\n",
    "from sklearn.metrics import silhouette_score, adjusted_rand_score\n",
    "\n",
    "# Check the number of unique labels\n",
    "num_unique_labels = len(set(classes))\n",
    "if num_unique_labels < 2:\n",
    "    print(\"Error: Number of unique labels is less than 2. Unable to compute evaluation metrics.\")\n",
    "else:\n",
    "    # Loop over different numbers of clusters\n",
    "    for num_clusters in range(2, 10):\n",
    "        # K-means\n",
    "        kmeans = KMeans(n_clusters=num_clusters, random_state=42)\n",
    "        kmeans.fit(images_2d)\n",
    "        kmeans_labels = kmeans.labels_\n",
    "        kmeans_silhouette = silhouette_score(images_2d, kmeans_labels)\n",
    "        kmeans_ari = adjusted_rand_score(classes, kmeans_labels)\n",
    "        print(f\"K-means: Number of Clusters: {num_clusters}\\t Silhouette Score: {kmeans_silhouette}\\t ARI: {kmeans_ari}\")\n",
    "\n",
    "        # Hierarchical clustering\n",
    "        hierarchical = AgglomerativeClustering(n_clusters=num_clusters)\n",
    "        hierarchical.fit(images_2d)\n",
    "        hierarchical_labels = hierarchical.labels_\n",
    "        hierarchical_silhouette = silhouette_score(images_2d, hierarchical_labels)\n",
    "        hierarchical_ari = adjusted_rand_score(classes, hierarchical_labels)\n",
    "        print(f\"Hierarchical Clustering: Number of Clusters: {num_clusters}\\t Silhouette Score: {hierarchical_silhouette}\\t ARI: {hierarchical_ari}\")\n",
    "\n",
    "        # DBSCAN\n",
    "        dbscan = DBSCAN(eps=0.5, min_samples=5)\n",
    "        dbscan.fit(images_2d)\n",
    "        dbscan_labels = dbscan.labels_\n",
    "        dbscan_silhouette = silhouette_score(images_2d, dbscan_labels)\n",
    "        dbscan_ari = adjusted_rand_score(classes, dbscan_labels)\n",
    "        print(f\"DBSCAN: Number of Clusters: {len(set(dbscan_labels))}\\t Silhouette Score: {dbscan_silhouette}\\t ARI: {dbscan_ari}\")\n"
   ]
  },
  {
   "cell_type": "code",
   "execution_count": null,
   "id": "fcb7b108",
   "metadata": {},
   "outputs": [],
   "source": [
    "# Create a list of algorithm names and evaluation scores\n",
    "algorithm_names, scores = zip(*evaluation_scores)\n",
    "\n",
    "# Get the evaluation metric names (e.g., ARI, NMI)\n",
    "metric_names = list(evaluation_scores[0][1].keys())\n",
    "\n",
    "# Set the position of the bars on the x-axis\n",
    "x = np.arange(len(algorithm_names))\n",
    "\n",
    "# Set the width of the bars\n",
    "bar_width = 0.2\n",
    "\n",
    "# Create subplots for each evaluation metric\n",
    "fig, ax = plt.subplots()\n",
    "for i, metric_name in enumerate(metric_names):\n",
    "    # Calculate the position of each bar\n",
    "    pos = x + (i - len(metric_names) / 2) * bar_width\n",
    "\n",
    "    # Get the scores for the current evaluation metric\n",
    "    metric_scores = [score[1][metric_name] for score in evaluation_scores]\n",
    "\n",
    "    # Plot the bars for the current evaluation metric\n",
    "    ax.bar(pos, metric_scores, bar_width, label=metric_name)\n",
    "\n",
    "# Set the x-axis labels and tick positions\n",
    "ax.set_xticks(x)\n",
    "ax.set_xticklabels(algorithm_names)\n",
    "plt.xlabel('Clustering Algorithm')\n",
    "plt.ylabel('Evaluation Metric Score')\n",
    "plt.title('Comparison of Clustering Algorithms')\n",
    "\n",
    "# Add a legend\n",
    "ax.legend()\n",
    "\n",
    "# Display the plot\n",
    "plt.tight_layout()\n",
    "plt.show()"
   ]
  },
  {
   "cell_type": "code",
   "execution_count": null,
   "id": "fe860385",
   "metadata": {},
   "outputs": [],
   "source": []
  }
 ],
 "metadata": {
  "kernelspec": {
   "display_name": "Python 3 (ipykernel)",
   "language": "python",
   "name": "python3"
  },
  "language_info": {
   "codemirror_mode": {
    "name": "ipython",
    "version": 3
   },
   "file_extension": ".py",
   "mimetype": "text/x-python",
   "name": "python",
   "nbconvert_exporter": "python",
   "pygments_lexer": "ipython3",
   "version": "3.10.6"
  }
 },
 "nbformat": 4,
 "nbformat_minor": 5
}
