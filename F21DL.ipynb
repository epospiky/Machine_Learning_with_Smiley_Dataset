{
 "cells": [
  {
   "cell_type": "code",
   "execution_count": 1,
   "id": "73fb4e5d",
   "metadata": {},
   "outputs": [],
   "source": [
    "import numpy as np\n",
    "import matplotlib.pyplot as plt\n",
    "from sklearn.model_selection import train_test_split\n",
    "from sklearn.naive_bayes import GaussianNB\n",
    "from sklearn.metrics import accuracy_score,recall_score,precision_score, f1_score, roc_auc_score, classification_report, confusion_matrix\n",
    "#for the 2nd part\n",
    "from sklearn.cluster import KMeans\n",
    "from sklearn.metrics import adjusted_rand_score\n",
    "from sklearn.metrics import normalized_mutual_info_score\n",
    "from sklearn.mixture import GaussianMixture\n",
    "from sklearn.cluster import AgglomerativeClustering\n",
    "from sklearn.metrics import silhouette_score\n",
    "#for the 2nd part\n",
    "from sklearn.model_selection import cross_val_score\n",
    "from sklearn.tree import DecisionTreeClassifier\n",
    "from sklearn.metrics import accuracy_score\n",
    "from sklearn.ensemble import RandomForestClassifier"
   ]
  },
  {
   "cell_type": "code",
   "execution_count": 2,
   "id": "2469454a",
   "metadata": {},
   "outputs": [],
   "source": [
    "#loading the images\n",
    "images = np.load(\"smiley_dataset/smiley_X.npy\")#noiseless dataset\n",
    "images2 = np.load(\"smiley_dataset/smiley_noisy_X.npy\") #noisy Dataset"
   ]
  },
  {
   "cell_type": "code",
   "execution_count": 3,
   "id": "fbf65915",
   "metadata": {},
   "outputs": [],
   "source": [
    "#loading the classes\n",
    "classes = np.load(\"smiley_dataset/smiley_Y.npy\") #class for noiseless Dataset\n",
    "classes2 = np.load(\"smiley_dataset/smiley_noisy_Y.npy\") #Class for noisy Dataset"
   ]
  },
  {
   "cell_type": "code",
   "execution_count": 4,
   "id": "b8d2b480",
   "metadata": {},
   "outputs": [
    {
     "name": "stdout",
     "output_type": "stream",
     "text": [
      "Images shape: (204, 9, 9, 1)\n",
      "Images2 shape: (204, 9, 9, 1)\n"
     ]
    }
   ],
   "source": [
    "print(\"Images shape:\", images.shape) #printing the noiseless dataset\n",
    "print(\"Images2 shape:\", images2.shape)#printing the noisy dataset"
   ]
  },
  {
   "cell_type": "markdown",
   "id": "64dc0630",
   "metadata": {},
   "source": [
    "# the shape of the dataset as printed above, tells it is a 4-dimensional numpy array with 204 samples, 9 height, 9 width and 1 channel(implying a grayscale)"
   ]
  },
  {
   "cell_type": "code",
   "execution_count": 5,
   "id": "73d1641c",
   "metadata": {},
   "outputs": [
    {
     "name": "stdout",
     "output_type": "stream",
     "text": [
      "[2. 2. 2. 2. 2. 2. 2. 2. 2. 2. 2. 2. 2. 2. 2. 2. 2. 2. 2. 2. 2. 2. 2. 2.\n",
      " 1. 1. 1. 1. 1. 1. 1. 1. 1. 1. 1. 1. 1. 1. 1. 1. 1. 1. 1. 1. 0. 0. 0. 0.\n",
      " 0. 0. 0. 0. 0. 0. 0. 0. 0. 0. 0. 0. 0. 0. 0. 0. 0. 0. 0. 0. 2. 2. 2. 2.\n",
      " 2. 2. 2. 2. 2. 2. 2. 2. 2. 2. 2. 2. 2. 2. 2. 2. 2. 2. 2. 2. 1. 1. 1. 1.\n",
      " 1. 1. 1. 1. 1. 1. 1. 1. 1. 1. 1. 1. 1. 1. 1. 1. 0. 0. 0. 0. 0. 0. 0. 0.\n",
      " 0. 0. 0. 0. 0. 0. 0. 0. 0. 0. 0. 0. 0. 0. 0. 0. 2. 2. 2. 2. 2. 2. 2. 2.\n",
      " 2. 2. 2. 2. 2. 2. 2. 2. 2. 2. 2. 2. 2. 2. 2. 2. 1. 1. 1. 1. 1. 1. 1. 1.\n",
      " 1. 1. 1. 1. 1. 1. 1. 1. 1. 1. 1. 1. 0. 0. 0. 0. 0. 0. 0. 0. 0. 0. 0. 0.\n",
      " 0. 0. 0. 0. 0. 0. 0. 0. 0. 0. 0. 0.]\n",
      "[2. 2. 2. 2. 2. 2. 2. 2. 2. 2. 2. 2. 2. 2. 2. 2. 2. 2. 2. 2. 2. 2. 2. 2.\n",
      " 1. 1. 1. 1. 1. 1. 1. 1. 1. 1. 1. 1. 1. 1. 1. 1. 1. 1. 1. 1. 0. 0. 0. 0.\n",
      " 0. 0. 0. 0. 0. 0. 0. 0. 0. 0. 0. 0. 0. 0. 0. 0. 0. 0. 0. 0. 2. 2. 2. 2.\n",
      " 2. 2. 2. 2. 2. 2. 2. 2. 2. 2. 2. 2. 2. 2. 2. 2. 2. 2. 2. 2. 1. 1. 1. 1.\n",
      " 1. 1. 1. 1. 1. 1. 1. 1. 1. 1. 1. 1. 1. 1. 1. 1. 0. 0. 0. 0. 0. 0. 0. 0.\n",
      " 0. 0. 0. 0. 0. 0. 0. 0. 0. 0. 0. 0. 0. 0. 0. 0. 2. 2. 2. 2. 2. 2. 2. 2.\n",
      " 2. 2. 2. 2. 2. 2. 2. 2. 2. 2. 2. 2. 2. 2. 2. 2. 1. 1. 1. 1. 1. 1. 1. 1.\n",
      " 1. 1. 1. 1. 1. 1. 1. 1. 1. 1. 1. 1. 0. 0. 0. 0. 0. 0. 0. 0. 0. 0. 0. 0.\n",
      " 0. 0. 0. 0. 0. 0. 0. 0. 0. 0. 0. 0.]\n"
     ]
    }
   ],
   "source": [
    "print(classes)#printing labels for the noiseless dataset\n",
    "print(classes2)#printing labels for the noisy dataset"
   ]
  },
  {
   "cell_type": "code",
   "execution_count": 6,
   "id": "3c747996",
   "metadata": {},
   "outputs": [
    {
     "name": "stdout",
     "output_type": "stream",
     "text": [
      "Class: 0.0 Count: 72\n",
      "Class: 1.0 Count: 60\n",
      "Class: 2.0 Count: 72\n",
      "\n",
      " for noisy dataset \n",
      "\n",
      "Class: 0.0 Count: 72\n",
      "Class: 1.0 Count: 60\n",
      "Class: 2.0 Count: 72\n"
     ]
    }
   ],
   "source": [
    "#verifying the number of unique classes with their corresponding leabels\n",
    "# Get the unique classes and their counts\n",
    "unique_classes, class_counts = np.unique(classes, return_counts=True)\n",
    "# Print the unique classes and their counts\n",
    "for class_label, count in zip(unique_classes, class_counts):\n",
    "    print(\"Class:\", class_label, \"Count:\", count)\n",
    "    \n",
    "print(\"\\n for noisy dataset \\n\")    \n",
    "unique_noisy_classes, noisy_class_counts = np.unique(classes2, return_counts=True)\n",
    "# Print the unique classes and their counts\n",
    "for noisy_class_label, count in zip(unique_noisy_classes, noisy_class_counts):\n",
    "    print(\"Class:\", noisy_class_label, \"Count:\", count)\n"
   ]
  },
  {
   "cell_type": "markdown",
   "id": "fbb853db",
   "metadata": {},
   "source": [
    "# the result from the above cell indicates that the both the noisy and noiseless dataset contain 72 images, 60 images and 72 images which belong to sad, neutral and happpy respectively"
   ]
  },
  {
   "cell_type": "code",
   "execution_count": 7,
   "id": "03f2d53b",
   "metadata": {},
   "outputs": [
    {
     "data": {
      "image/png": "[encoded data removed]",
      "text/plain": [
       "<Figure size 1000x400 with 5 Axes>"
      ]
     },
     "metadata": {},
     "output_type": "display_data"
    }
   ],
   "source": [
    "# Selecting some random from the noisy dataset for visualization\n",
    "indices = np.random.choice(len(images2), size=5, replace=False)\n",
    "\n",
    "# Ploting the selected images \n",
    "fig, axes = plt.subplots(1, len(indices), figsize=(10, 4))\n",
    "for i, index in enumerate(indices):\n",
    "    axes[i].imshow(images[index, :, :, 0], cmap='gray')\n",
    "    axes[i].set_title(f\"Class: {classes[index]}\")\n",
    "    axes[i].axis('off')#turning off axis labels for cleaner display\n",
    "plt.tight_layout()\n",
    "plt.show()"
   ]
  },
  {
   "cell_type": "code",
   "execution_count": 8,
   "id": "e785bc14",
   "metadata": {},
   "outputs": [
    {
     "data": {
      "image/png": "[encoded data removed]",
      "text/plain": [
       "<Figure size 1000x400 with 5 Axes>"
      ]
     },
     "metadata": {},
     "output_type": "display_data"
    }
   ],
   "source": [
    "\n",
    "# Selecting some random indices from the noiseless dataset for visualization\n",
    "indices = np.random.choice(len(images), size=5, replace=False)\n",
    "\n",
    "# Plot the selected images\n",
    "fig, axes = plt.subplots(1, len(indices), figsize=(10, 4))\n",
    "for i, index in enumerate(indices):\n",
    "    axes[i].imshow(images[index, :, :, 0], cmap='gray')\n",
    "    axes[i].set_title(f\"Class: {classes[index]}\")\n",
    "    axes[i].axis('off')\n",
    "plt.tight_layout()\n",
    "plt.show()"
   ]
  },
  {
   "cell_type": "markdown",
   "id": "71fc8801",
   "metadata": {},
   "source": [
    "# Results from the two cell above show visualization of 5 random images from the datasets(noiseless and noisy) which seem to match their corresponding classes"
   ]
  },
  {
   "cell_type": "code",
   "execution_count": 9,
   "id": "ea33db0a",
   "metadata": {},
   "outputs": [],
   "source": [
    "# Splitting the datasets into training and testing sets\n",
    "img_train, img_test, cl_train, cl_test = train_test_split(images, classes, test_size=0.2, random_state=42)\n",
    "img_noisy_train, img_noisy_test, cl_noisy_train, cl_noisy_test = train_test_split(images2, classes2, test_size=0.2, random_state=42)"
   ]
  },
  {
   "cell_type": "code",
   "execution_count": 10,
   "id": "3786d3bf",
   "metadata": {},
   "outputs": [],
   "source": [
    "# Create an instance of the Naïve Bayes classifier\n",
    "naive_bayes = GaussianNB()"
   ]
  },
  {
   "cell_type": "code",
   "execution_count": 11,
   "id": "35e746eb",
   "metadata": {},
   "outputs": [
    {
     "data": {
      "text/plain": [
       "GaussianNB()"
      ]
     },
     "execution_count": 11,
     "metadata": {},
     "output_type": "execute_result"
    }
   ],
   "source": [
    "# Train the classifier on the training sets\n",
    "naive_bayes.fit(img_train.reshape(img_train.shape[0], -1), cl_train)\n",
    "naive_bayes.fit(img_noisy_train.reshape(img_noisy_train.shape[0], -1), cl_noisy_train)\n",
    "\n"
   ]
  },
  {
   "cell_type": "code",
   "execution_count": 12,
   "id": "449f30b0",
   "metadata": {},
   "outputs": [],
   "source": [
    "# Reshape the testing set to match the input format\n",
    "img_test_reshaped = img_test.reshape(img_test.shape[0], -1)\n",
    "img_noisy_test_reshaped = img_noisy_test.reshape(img_noisy_test.shape[0], -1)"
   ]
  },
  {
   "cell_type": "code",
   "execution_count": 13,
   "id": "32bea04b",
   "metadata": {},
   "outputs": [],
   "source": [
    "# Make predictions on the testing set\n",
    "cl_pred = naive_bayes.predict(img_test_reshaped)\n",
    "cl_noisy_pred = naive_bayes.predict(img_noisy_test_reshaped)\n"
   ]
  },
  {
   "cell_type": "code",
   "execution_count": 24,
   "id": "924d9168",
   "metadata": {},
   "outputs": [
    {
     "name": "stdout",
     "output_type": "stream",
     "text": [
      "Accuracy: 0.5853658536585366\n"
     ]
    }
   ],
   "source": [
    "\n",
    "# Calculate and print the accuracy\n",
    "accuracy = accuracy_score(cl_test, cl_pred)\n",
    "print(\"Accuracy:\", accuracy)\n"
   ]
  },
  {
   "cell_type": "code",
   "execution_count": null,
   "id": "6a9f472d",
   "metadata": {},
   "outputs": [],
   "source": []
  },
  {
   "cell_type": "code",
   "execution_count": 25,
   "id": "83f770ff",
   "metadata": {},
   "outputs": [
    {
     "name": "stdout",
     "output_type": "stream",
     "text": [
      "Confusion Matrix:\n",
      " [[ 8  6  1]\n",
      " [ 2  6  1]\n",
      " [ 0  7 10]]\n"
     ]
    }
   ],
   "source": [
    "# Generate and print the confusion matrix\n",
    "confusion_mat = confusion_matrix(cl_test, cl_pred)\n",
    "print(\"Confusion Matrix:\\n\", confusion_mat)"
   ]
  },
  {
   "cell_type": "code",
   "execution_count": 22,
   "id": "5d83c449",
   "metadata": {},
   "outputs": [],
   "source": [
    "\n",
    "# Calculate and print TP rate, FP rate, precision, recall, and F measure\n",
    "tp_rate = confusion_mat[1, 1] / (confusion_mat[1, 1] + confusion_mat[1, 0])\n",
    "fp_rate = confusion_mat[0, 1] / (confusion_mat[0, 1] + confusion_mat[0, 0])\n",
    "precision = confusion_mat[1, 1] / (confusion_mat[1, 1] + confusion_mat[0, 1])\n",
    "recall = tp_rate\n",
    "f_measure = 2 * (precision * recall) / (precision + recall)\n",
    "\n",
    "\n"
   ]
  },
  {
   "cell_type": "code",
   "execution_count": 23,
   "id": "1402ec6b",
   "metadata": {},
   "outputs": [
    {
     "name": "stdout",
     "output_type": "stream",
     "text": [
      "TP Rate: 0.75\n",
      "FP Rate: 0.42857142857142855\n",
      "Precision: 0.5\n",
      "Recall: 0.75\n",
      "F Measure: 0.6\n"
     ]
    }
   ],
   "source": [
    "\n",
    "print(\"TP Rate:\", tp_rate)\n",
    "print(\"FP Rate:\", fp_rate)\n",
    "print(\"Precision:\", precision)\n",
    "print(\"Recall:\", recall)\n",
    "print(\"F Measure:\", f_measure)\n",
    "\n"
   ]
  },
  {
   "cell_type": "code",
   "execution_count": 27,
   "id": "2f4d4ac9",
   "metadata": {},
   "outputs": [
    {
     "name": "stdout",
     "output_type": "stream",
     "text": [
      "ROC Area: 0.779325351935646\n"
     ]
    }
   ],
   "source": [
    "# Calculate and print ROC area\n",
    "if len(unique_classes) == 2:  # Binary classification\n",
    "    roc_area = roc_auc_score(cl_test, cl_pred)\n",
    "else:  # Multi-class classification\n",
    "    cl_prob = naive_bayes.predict_proba(img_test_reshaped)\n",
    "    roc_area = roc_auc_score(cl_test, cl_prob, multi_class='ovr')\n",
    "print(\"ROC Area:\", roc_area)\n",
    "\n"
   ]
  },
  {
   "cell_type": "markdown",
   "id": "37ceffde",
   "metadata": {},
   "source": [
    "# Discusion for the metrics\n",
    "#from the results of the metrics calculated above,\n",
    "Accuracy of 0.5853658536585366 suggest that 58.54 samples were correctly classified\n",
    "True Positive Rate of 0.75 indicates that 75% of the images were identified correctly\n",
    "False Positive Rate of 0.42857142857142855 implies that 42% of the times it avoids misclassifying negative samples as positive\n",
    "precision of 0.5 means that the classifier has mad a 50% positive prediction of correct classification\n"
   ]
  },
  {
   "cell_type": "code",
   "execution_count": 29,
   "id": "48729f54",
   "metadata": {},
   "outputs": [
    {
     "name": "stdout",
     "output_type": "stream",
     "text": [
      "Images shape: (204, 9, 9, 1)\n",
      "Classes shape: (204,)\n",
      "Unique Class Labels in 'classes': [0. 1. 2.]\n",
      "Class: 0.0, class_indices: [ 44  45  46  47  48  49  50  51  52  53  54  55  56  57  58  59  60  61\n",
      "  62  63  64  65  66  67 112 113 114 115 116 117 118 119 120 121 122 123\n",
      " 124 125 126 127 128 129 130 131 132 133 134 135 180 181 182 183 184 185\n",
      " 186 187 188 189 190 191 192 193 194 195 196 197 198 199 200 201 202 203]\n",
      "Class: 1.0, class_indices: [ 24  25  26  27  28  29  30  31  32  33  34  35  36  37  38  39  40  41\n",
      "  42  43  92  93  94  95  96  97  98  99 100 101 102 103 104 105 106 107\n",
      " 108 109 110 111 160 161 162 163 164 165 166 167 168 169 170 171 172 173\n",
      " 174 175 176 177 178 179]\n",
      "Class: 2.0, class_indices: [  0   1   2   3   4   5   6   7   8   9  10  11  12  13  14  15  16  17\n",
      "  18  19  20  21  22  23  68  69  70  71  72  73  74  75  76  77  78  79\n",
      "  80  81  82  83  84  85  86  87  88  89  90  91 136 137 138 139 140 141\n",
      " 142 143 144 145 146 147 148 149 150 151 152 153 154 155 156 157 158 159]\n",
      "Correlation Matrix Shape: (81, 81)\n",
      "Class: 0.0, Number of Samples: 72\n",
      "Error: index 112 is out of bounds for axis 0 with size 81\n",
      "Class: 1.0, Number of Samples: 60\n",
      "Error: index 92 is out of bounds for axis 0 with size 81\n",
      "Class: 2.0, Number of Samples: 72\n",
      "Error: index 81 is out of bounds for axis 0 with size 81\n"
     ]
    }
   ],
   "source": [
    "# Verify the number of samples and the shape of the images and classes arrays\n",
    "print(\"Images shape:\", images.shape)\n",
    "print(\"Classes shape:\", classes.shape)\n",
    "\n",
    "# Verify the unique class labels in the 'classes' array\n",
    "unique_classes_in_classes = np.unique(classes)\n",
    "print(\"Unique Class Labels in 'classes':\", unique_classes_in_classes)\n",
    "\n",
    "# Print 'class_indices' for each class to identify the issue\n",
    "for class_label in unique_classes:\n",
    "    class_indices = np.where(classes == class_label)[0]\n",
    "    print(f\"Class: {class_label}, class_indices:\", class_indices)\n",
    "\n",
    "\n",
    "# Reshape the images into a 2D array (num_samples, num_pixels)\n",
    "num_samples, img_height, img_width, num_channels = images.shape\n",
    "images_reshaped = images.reshape(num_samples, img_height * img_width * num_channels)\n",
    "\n",
    "# Step 1: Identify Correlating Features\n",
    "correlation_matrix = np.corrcoef(images_reshaped, rowvar=False)\n",
    "print(\"Correlation Matrix Shape:\", correlation_matrix.shape)\n",
    "\n",
    "top_features_per_class = []\n",
    "N = 3  # Number of top features to select for each class\n",
    "\n",
    "for class_label in unique_classes:\n",
    "    class_indices = np.where(classes == class_label)[0]\n",
    "    print(f\"Class: {class_label}, Number of Samples: {len(class_indices)}\")\n",
    "\n",
    "    # Check if there are enough samples for the class before computing correlation\n",
    "    if len(class_indices) >= N:\n",
    "        try:\n",
    "            class_corr_values = np.mean(correlation_matrix[class_indices], axis=0)\n",
    "            top_features_indices = np.argsort(class_corr_values)[-N:][::-1]\n",
    "            top_features_per_class.append(top_features_indices)\n",
    "        except IndexError as e:\n",
    "            print(\"Error:\", e)\n",
    "    else:\n",
    "        print(f\"Class {class_label} has insufficient samples for correlation calculation.\")"
   ]
  },
  {
   "cell_type": "code",
   "execution_count": null,
   "id": "1f5ee800",
   "metadata": {},
   "outputs": [],
   "source": []
  },
  {
   "cell_type": "code",
   "execution_count": null,
   "id": "641ca8f8",
   "metadata": {},
   "outputs": [],
   "source": [
    "#THIS IS THE BEGINING OF THE SECOND PART OF THE ASSIGNMENT\n",
    "#PART TWO BEGINS HERE\n",
    "evaluation_scores = []\n",
    "images_2d = images.reshape(images.shape[0], -1)\n"
   ]
  },
  {
   "cell_type": "code",
   "execution_count": null,
   "id": "b75a73f2",
   "metadata": {},
   "outputs": [],
   "source": [
    "# Create an instance of the KMeans clustering algorithm\n",
    "kmeans = KMeans(n_clusters=3, n_init=10, random_state=42)\n",
    "\n",
    "# Fit the k-means algorithm to the data\n",
    "kmeans.fit(images_2d)\n"
   ]
  },
  {
   "cell_type": "code",
   "execution_count": null,
   "id": "d20b5de1",
   "metadata": {},
   "outputs": [],
   "source": [
    "# Get the predicted cluster labels for the samples\n",
    "cluster_labels = kmeans.labels_"
   ]
  },
  {
   "cell_type": "code",
   "execution_count": null,
   "id": "9ca9ecb6",
   "metadata": {},
   "outputs": [],
   "source": [
    "# Get the cluster centers (centroids)\n",
    "cluster_centers = kmeans.cluster_centers_\n",
    "\n",
    "# Define the image dimensions\n",
    "image_height = 9\n",
    "image_width = 9\n",
    "\n",
    "# Plot the cluster centers\n",
    "plt.figure(figsize=(8, 3))\n",
    "for i, center in enumerate(cluster_centers):\n",
    "    plt.subplot(1, len(cluster_centers), i + 1)\n",
    "    plt.imshow(center.reshape((image_height, image_width)), cmap='gray')\n",
    "    plt.axis('off')\n",
    "    plt.title(f'Cluster {i+1}')\n",
    "plt.tight_layout()\n",
    "plt.show()\n"
   ]
  },
  {
   "cell_type": "code",
   "execution_count": null,
   "id": "2c49e02a",
   "metadata": {},
   "outputs": [],
   "source": [
    "\n",
    "\n",
    "# Calculate the ARI between the cluster labels and the ground truth labels\n",
    "kmeans_ari = adjusted_rand_score(classes, cluster_labels)\n",
    "print(\"Adjusted Rand Index (ARI):\", kmeans_ari)\n"
   ]
  },
  {
   "cell_type": "code",
   "execution_count": null,
   "id": "c72e8eae",
   "metadata": {},
   "outputs": [],
   "source": [
    "#implemeningt NMI for Kmeans clustering\n",
    "kmeans_nmi = normalized_mutual_info_score(classes, cluster_labels)\n",
    "#print the NMI score\n",
    "print(\"NMI SCORe:\", kmeans_nmi)"
   ]
  },
  {
   "cell_type": "code",
   "execution_count": null,
   "id": "dc79f242",
   "metadata": {},
   "outputs": [],
   "source": [
    "# Store the scores for K-means\n",
    "kmeans_scores = {\n",
    "    \"ARI\": kmeans_ari,\n",
    "    \"NMI\": kmeans_nmi\n",
    "}\n",
    "evaluation_scores.append((\"K-means\", kmeans_scores))\n"
   ]
  },
  {
   "cell_type": "code",
   "execution_count": null,
   "id": "07c9118a",
   "metadata": {},
   "outputs": [],
   "source": [
    "#implementing EM cLustering using GMM\n",
    "\n",
    "# Create an instance of the GaussianMixture algorithm\n",
    "gmm = GaussianMixture(n_components=3, random_state=42)\n",
    "\n",
    "# Fit the GMM to the data\n",
    "gmm.fit(images_2d)\n",
    "\n",
    "# Get the cluster labels\n",
    "gmm_labels = gmm.predict(images_2d)\n",
    "\n",
    "# Calculate the ARI for the GMM clustering\n",
    "gmm_ari = adjusted_rand_score(classes, gmm_labels)\n",
    "\n",
    "# Print the ARI score\n",
    "print(\"Adjusted Rand Index (ARI):\", gmm_ari)"
   ]
  },
  {
   "cell_type": "code",
   "execution_count": null,
   "id": "3fa64560",
   "metadata": {},
   "outputs": [],
   "source": [
    "#implemeningt NMI for GMM clustering\n",
    "gmm_nmi = normalized_mutual_info_score(classes, gmm_labels)\n",
    "#print the NMI score\n",
    "print(\"NMI SCORE:\", gmm_nmi)"
   ]
  },
  {
   "cell_type": "code",
   "execution_count": null,
   "id": "12f27d7b",
   "metadata": {},
   "outputs": [],
   "source": [
    "# Store the scores for GMM\n",
    "gmm_scores = {\n",
    "    \"ARI\": gmm_ari,\n",
    "    \"NMI\": gmm_nmi\n",
    "}\n",
    "evaluation_scores.append((\"GMM\", gmm_scores))"
   ]
  },
  {
   "cell_type": "code",
   "execution_count": null,
   "id": "c923b39e",
   "metadata": {},
   "outputs": [],
   "source": [
    "#implementing Hierarchical Clustering\n",
    "# Create an instance of the AgglomerativeClustering algorithm\n",
    "hierarchical = AgglomerativeClustering(n_clusters=3)\n",
    "\n",
    "# Fit the hierarchical clustering algorithm to the data\n",
    "hierarchical.fit(images_2d)\n",
    "\n",
    "# Get the cluster labels\n",
    "hierarchical_labels = hierarchical.labels_\n",
    "# Calculate the ARI for the hierarchical clustering\n",
    "hierarchical_ari = adjusted_rand_score(classes, hierarchical_labels)\n",
    "print(\"Evaluation Metric Score:\", hierarchical_ari)"
   ]
  },
  {
   "cell_type": "code",
   "execution_count": null,
   "id": "5d30c6a3",
   "metadata": {},
   "outputs": [],
   "source": [
    "#implemeningt NMI for HIERARCHICAL clustering\n",
    "hierarchical_nmi = normalized_mutual_info_score(classes, hierarchical_labels)\n",
    "#print the NMI score\n",
    "print(\"NMI SCORE:\", hierarchical_nmi)"
   ]
  },
  {
   "cell_type": "code",
   "execution_count": null,
   "id": "83f6de28",
   "metadata": {},
   "outputs": [],
   "source": [
    "# Store the scores for Hierarchical clustering\n",
    "hierarchical_scores = {\n",
    "    \"ARI\": hierarchical_ari,\n",
    "    \"NMI\": hierarchical_nmi\n",
    "}\n",
    "evaluation_scores.append((\"Hierarchical\", hierarchical_scores))"
   ]
  },
  {
   "cell_type": "code",
   "execution_count": null,
   "id": "cf7fa299",
   "metadata": {},
   "outputs": [],
   "source": [
    "# Accessing the scores for K-means\n",
    "kmeans_scores = evaluation_scores[0][1]\n",
    "kmeans_ari = kmeans_scores[\"ARI\"]\n",
    "kmeans_nmi = kmeans_scores[\"NMI\"]\n",
    "print(kmeans_ari)"
   ]
  },
  {
   "cell_type": "code",
   "execution_count": null,
   "id": "2996661c",
   "metadata": {},
   "outputs": [],
   "source": [
    "for num_clusters in range(2,10):\n",
    "    kmeans = KMeans(n_clusters = num_clusters,n_init = 10, random_state = 42)\n",
    "    kmeans.fit(images_2d)\n",
    "    cluster_labels = kmeans.labels_\n",
    "    silhouette_avg = silhouette_score(images_2d, cluster_labels)\n",
    "    kmeans_ari = adjusted_rand_score(classes, cluster_labels)\n",
    "    print(f\"Number of Clusters:{num_clusters}\\t Silhouette Score:{silhouette_avg}\\t ARI:{kmeans_ari}\")"
   ]
  },
  {
   "cell_type": "code",
   "execution_count": null,
   "id": "ff58248e",
   "metadata": {
    "scrolled": true
   },
   "outputs": [],
   "source": [
    "\n",
    "\n",
    "# Check the number of unique labels\n",
    "num_unique_labels = len(set(classes))\n",
    "if num_unique_labels < 2:\n",
    "    print(\"Error: Number of unique labels is less than 2. Unable to compute evaluation metrics.\")\n",
    "else:\n",
    "    # Loop over different numbers of clusters\n",
    "    for num_clusters in range(2, 10):\n",
    "        # K-means\n",
    "        kmeans = KMeans(n_clusters=num_clusters,n_init=10, random_state=42)\n",
    "        kmeans.fit(images_2d)\n",
    "        kmeans_labels = kmeans.labels_\n",
    "        kmeans_silhouette = silhouette_score(images_2d, kmeans_labels)\n",
    "        kmeans_ari = adjusted_rand_score(classes, kmeans_labels)\n",
    "        kmeans_nmi = normalized_mutual_info_score(classes, kmeans_labels)\n",
    "        print(f\"K-means: Number of Clusters: {num_clusters}\\t Silhouette Score: {kmeans_silhouette}\\t ARI: {kmeans_ari}\\t NMI Score:{kmeans_nmi}\")\n",
    "        \n",
    "        #Em clustering using GMM\n",
    "        gmm = GaussianMixture(n_components = 3, random_state=42)\n",
    "        gmm.fit(images_2d)\n",
    "        gmm_labels = gmm.predict(images_2d)\n",
    "        gmm_silhouette =  silhouette_score(images_2d, gmm_labels)\n",
    "        gmm_ari = adjusted_rand_score(classes, gmm_labels)\n",
    "        print(f\"EM Clustering: Number of Clusters: {num_clusters}\\t Silhouette Score: {gmm_silhouette}\\t ARI: {gmm_ari}\")\n",
    "        \n",
    "        \n",
    "        # Hierarchical clustering\n",
    "        hierarchical = AgglomerativeClustering(n_clusters=num_clusters)\n",
    "        hierarchical.fit(images_2d)\n",
    "        hierarchical_labels = hierarchical.labels_\n",
    "        hierarchical_silhouette = silhouette_score(images_2d, hierarchical_labels)\n",
    "        hierarchical_ari = adjusted_rand_score(classes, hierarchical_labels)\n",
    "        print(f\"Hierarchical Clustering: Number of Clusters: {num_clusters}\\t Silhouette Score: {hierarchical_silhouette}\\t ARI: {hierarchical_ari}\\n \")\n",
    "\n",
    "        "
   ]
  },
  {
   "cell_type": "code",
   "execution_count": null,
   "id": "fcb7b108",
   "metadata": {},
   "outputs": [],
   "source": [
    "# Create a list of algorithm names and evaluation scores\n",
    "algorithm_names, scores = zip(*evaluation_scores)\n",
    "\n",
    "# Get the evaluation metric names (e.g., ARI, NMI)\n",
    "metric_names = list(evaluation_scores[0][1].keys())\n",
    "\n",
    "# Set the position of the bars on the x-axis\n",
    "x = np.arange(len(algorithm_names))\n",
    "\n",
    "# Set the width of the bars\n",
    "bar_width = 0.2\n",
    "\n",
    "# Create subplots for each evaluation metric\n",
    "fig, ax = plt.subplots()\n",
    "for i, metric_name in enumerate(metric_names):\n",
    "    # Calculate the position of each bar\n",
    "    pos = x + (i - len(metric_names) / 2) * bar_width\n",
    "\n",
    "    # Get the scores for the current evaluation metric\n",
    "    metric_scores = [score[1][metric_name] for score in evaluation_scores]\n",
    "\n",
    "    # Plot the bars for the current evaluation metric\n",
    "    ax.bar(pos, metric_scores, bar_width, label=metric_name)\n",
    "\n",
    "# Set the x-axis labels and tick positions\n",
    "ax.set_xticks(x)\n",
    "ax.set_xticklabels(algorithm_names)\n",
    "plt.xlabel('Clustering Algorithm')\n",
    "plt.ylabel('Evaluation Metric Score')\n",
    "plt.title('Comparison of Clustering Algorithms')\n",
    "\n",
    "# Add a legend\n",
    "ax.legend()\n",
    "\n",
    "# Display the plot\n",
    "plt.tight_layout()\n",
    "plt.show()"
   ]
  },
  {
   "cell_type": "code",
   "execution_count": null,
   "id": "fe860385",
   "metadata": {},
   "outputs": [],
   "source": [
    "\n",
    "# Check the number of unique labels\n",
    "num_unique_labels = len(set(classes))\n",
    "if num_unique_labels < 2:\n",
    "    print(\"Error: Number of unique labels is less than 2. Unable to compute evaluation metrics.\")\n",
    "else:\n",
    "    # Define the range of clusters to explore\n",
    "    num_clusters_range = range(2, 10)\n",
    "\n",
    "    # Initialize lists to store evaluation metric scores\n",
    "    kmeans_silhouette_scores = []\n",
    "    kmeans_ari_scores = []\n",
    "    kmeans_nmi_scores=[]\n",
    "    gmm_silhouette_scores = []\n",
    "    gmm_ari_scores = []\n",
    "    gmm_nmi_scores=[]\n",
    "    hierarchical_silhouette_scores = []\n",
    "    hierarchical_ari_scores = []\n",
    "    hierarchical_nmi_scores=[]\n",
    "\n",
    "    # Loop over different numbers of clusters\n",
    "    for num_clusters in num_clusters_range:\n",
    "        # K-means\n",
    "        kmeans = KMeans(n_clusters=num_clusters,n_init=10, random_state=42)\n",
    "        kmeans.fit(images_2d)\n",
    "        kmeans_labels = kmeans.labels_\n",
    "        kmeans_silhouette = silhouette_score(images_2d, kmeans_labels)\n",
    "        kmeans_ari = adjusted_rand_score(classes, kmeans_labels)\n",
    "        kmeans_nmi = normalized_mutual_info_score(classes, kmeans_labels)\n",
    "        kmeans_silhouette_scores.append(kmeans_silhouette)\n",
    "        kmeans_ari_scores.append(kmeans_ari)\n",
    "        kmeans_nmi_scores.append(kmeans_nmi)\n",
    "\n",
    "        # EM clustering using GMM\n",
    "        gmm = GaussianMixture(n_components=num_clusters, random_state=42)\n",
    "        gmm.fit(images_2d)\n",
    "        gmm_labels = gmm.predict(images_2d)\n",
    "        gmm_silhouette = silhouette_score(images_2d, gmm_labels)\n",
    "        gmm_ari = adjusted_rand_score(classes, gmm_labels)\n",
    "        gmm_nmi = normalized_mutual_info_score(classes, gmm_labels)\n",
    "        gmm_silhouette_scores.append(gmm_silhouette)\n",
    "        gmm_ari_scores.append(gmm_ari)\n",
    "        gmm_nmi_scores.append(gmm_nmi)\n",
    "\n",
    "        # Hierarchical clustering\n",
    "        hierarchical = AgglomerativeClustering(n_clusters=num_clusters)\n",
    "        hierarchical.fit(images_2d)\n",
    "        hierarchical_labels = hierarchical.labels_\n",
    "        hierarchical_silhouette = silhouette_score(images_2d, hierarchical_labels)\n",
    "        hierarchical_ari = adjusted_rand_score(classes, hierarchical_labels)\n",
    "        hierarchical_nmi = normalized_mutual_info_score(classes, hierarchical_labels)\n",
    "        hierarchical_silhouette_scores.append(hierarchical_silhouette)\n",
    "        hierarchical_ari_scores.append(hierarchical_ari)\n",
    "        hierarchical_nmi_scores.append(hierarchical_nmi)\n",
    "\n",
    "    # Visualize Silhouette Scores\n",
    "    plt.plot(num_clusters_range, kmeans_silhouette_scores, label='K-means')\n",
    "    plt.plot(num_clusters_range, gmm_silhouette_scores, label='GMM')\n",
    "    plt.plot(num_clusters_range, hierarchical_silhouette_scores, label='Hierarchical')\n",
    "    plt.xlabel('Number of Clusters')\n",
    "    plt.ylabel('Silhouette Score')\n",
    "    plt.legend()\n",
    "    plt.title('Silhouette Scores for Different Clustering Algorithms')\n",
    "    plt.show()\n",
    "\n",
    "    # Visualize ARI Scores\n",
    "    plt.plot(num_clusters_range, kmeans_ari_scores, label='K-means')\n",
    "    plt.plot(num_clusters_range, gmm_ari_scores, label='GMM')\n",
    "    plt.plot(num_clusters_range, hierarchical_ari_scores, label='Hierarchical')\n",
    "    plt.xlabel('Number of Clusters')\n",
    "    plt.ylabel('Adjusted Rand Index (ARI)')\n",
    "    plt.legend()\n",
    "    plt.title('Adjusted Rand Index (ARI) for Different Clustering Algorithms')\n",
    "    plt.show()\n",
    "    \n",
    "    # Visualize NMI Scores\n",
    "    plt.plot(num_clusters_range, kmeans_nmi_scores, label='K-means')\n",
    "    plt.plot(num_clusters_range, gmm_nmi_scores, label='GMM')\n",
    "    plt.plot(num_clusters_range, hierarchical_nmi_scores, label='Hierarchical')\n",
    "    plt.xlabel('Number of Clusters')\n",
    "    plt.ylabel('Normalized Mutual Info (NMI)')\n",
    "    plt.legend()\n",
    "    plt.title('Normalized Mutual Info (NMI) for Different Clustering Algorithms')\n",
    "    plt.show()\n",
    "\n",
    "    # Draw Conclusions\n",
    "    best_kmeans_num_clusters = num_clusters_range[kmeans_silhouette_scores.index(max(kmeans_silhouette_scores))]\n",
    "    best_gmm_num_clusters = num_clusters_range[gmm_silhouette_scores.index(max(gmm_silhouette_scores))]\n",
    "    best_hierarchical_num_clusters = num_clusters_range[hierarchical_silhouette_scores.index(max(hierarchical_silhouette_scores))]\n",
    "    \n",
    "    print(f\"Best number of clusters for K-means: {best_kmeans_num_clusters}\")\n",
    "    print(f\"Best number of clusters for GMM: {best_gmm_num_clusters}\")\n",
    "    print(f\"Best number of clusters for Hierarchical: {best_hierarchical_num_clusters}\")\n"
   ]
  },
  {
   "cell_type": "code",
   "execution_count": null,
   "id": "4bef327b",
   "metadata": {},
   "outputs": [],
   "source": [
    "#the 3rd part of the assignment proceeds on the next cell"
   ]
  },
  {
   "cell_type": "code",
   "execution_count": null,
   "id": "05566157",
   "metadata": {},
   "outputs": [],
   "source": [
    "clf = DecisionTreeClassifier()"
   ]
  },
  {
   "cell_type": "code",
   "execution_count": null,
   "id": "c1596126",
   "metadata": {},
   "outputs": [],
   "source": [
    "#reshaping the input features\n",
    "num_samples, image_height, image_width, num_channels = X_train.shape\n",
    "X_train_reshaped = X_train.reshape(num_samples, image_height * image_width * num_channels)\n",
    "\n",
    "k = 10  # Number of folds for cross-validation\n",
    "scores = cross_val_score(clf, X_train_reshaped, y_train, cv=k)"
   ]
  },
  {
   "cell_type": "code",
   "execution_count": null,
   "id": "e4a3df32",
   "metadata": {},
   "outputs": [],
   "source": [
    "print(\"Accuracy scores for each fold:\")\n",
    "print(scores)\n",
    "print(\"Mean accuracy:\", scores.mean())\n"
   ]
  },
  {
   "cell_type": "code",
   "execution_count": null,
   "id": "395b0160",
   "metadata": {},
   "outputs": [],
   "source": [
    "# Reshape the training set\n",
    "X_train_reshaped = X_train.reshape(X_train.shape[0], -1)\n",
    "\n",
    "# Reshape the test set\n",
    "X_test_reshaped = X_test.reshape(X_test.shape[0], -1)\n",
    "\n",
    "# Create an instance of DecisionTreeClassifier\n",
    "clf = DecisionTreeClassifier(random_state=42)\n",
    "\n",
    "# Fit the decision tree classifier to the training data\n",
    "clf.fit(X_train_reshaped, y_train)\n",
    "\n",
    "# Use the fitted classifier to predict the labels for the test set\n",
    "y_pred = clf.predict(X_test_reshaped)\n",
    "\n",
    "# Calculate the accuracy of the classifier's predictions on the test set\n",
    "accuracy = accuracy_score(y_test, y_pred)\n",
    "print(\"Accuracy on test set:\", accuracy)"
   ]
  },
  {
   "cell_type": "code",
   "execution_count": null,
   "id": "05e04f33",
   "metadata": {},
   "outputs": [],
   "source": [
    "precision = precision_score(y_test, y_pred, average='weighted')\n",
    "print(\"Precision:\", precision)\n"
   ]
  },
  {
   "cell_type": "code",
   "execution_count": null,
   "id": "dd22ff58",
   "metadata": {},
   "outputs": [],
   "source": [
    "recall = recall_score(y_test, y_pred, average='weighted')\n",
    "print(\"Recall:\", recall)\n"
   ]
  },
  {
   "cell_type": "code",
   "execution_count": null,
   "id": "8c6b1dda",
   "metadata": {},
   "outputs": [],
   "source": [
    "f1 = f1_score(y_test, y_pred, average='weighted')\n",
    "print(\"F1 Score:\", f1)\n"
   ]
  },
  {
   "cell_type": "code",
   "execution_count": null,
   "id": "34172384",
   "metadata": {},
   "outputs": [],
   "source": [
    "confusion_mat = confusion_matrix(y_test, y_pred)\n",
    "print(\"Confusion Matrix:\")\n",
    "print(confusion_mat)\n"
   ]
  },
  {
   "cell_type": "code",
   "execution_count": null,
   "id": "95225c72",
   "metadata": {},
   "outputs": [],
   "source": [
    "# Initialize the decision tree classifier\n",
    "clf = DecisionTreeClassifier()\n",
    "\n",
    "# Experiment with different parameters\n",
    "parameters = [\n",
    "    {\"max_depth\": 3},\n",
    "    {\"min_impurity_decrease\": 0.01},\n",
    "    {\"criterion\": \"entropy\"},\n",
    "    {\"min_samples_leaf\": 5},\n",
    "    {\"ccp_alpha\": 0.1}\n",
    "]\n",
    "\n",
    "# Loop over the parameters\n",
    "for params in parameters:\n",
    "    # Set the parameters for the classifier\n",
    "    clf.set_params(**params)\n",
    "\n",
    "    # Fit the classifier on the training set\n",
    "    clf.fit(X_train_reshaped, y_train)\n",
    "\n",
    "    # Predict on the training set and calculate metrics\n",
    "    y_train_pred = clf.predict(X_train_reshaped)\n",
    "    train_confusion_mat = confusion_matrix(y_train, y_train_pred)\n",
    "    train_TP = train_confusion_mat[1, 1]\n",
    "    train_FP = train_confusion_mat[0, 1]\n",
    "    train_accuracy = accuracy_score(y_train, y_train_pred)\n",
    "    train_precision = precision_score(y_train, y_train_pred, average='macro')\n",
    "    train_recall = recall_score(y_train, y_train_pred, average='macro')\n",
    "    train_f1 = f1_score(y_train, y_train_pred, average='macro')\n",
    "\n",
    "    # Predict on the test set and calculate metrics\n",
    "    y_test_pred = clf.predict(X_test_reshaped)\n",
    "    test_confusion_mat = confusion_matrix(y_test, y_test_pred)\n",
    "    test_TP = test_confusion_mat[1, 1]\n",
    "    test_FP = test_confusion_mat[0, 1]\n",
    "    test_accuracy = accuracy_score(y_test, y_test_pred)\n",
    "    test_precision = precision_score(y_test, y_test_pred, average='macro')\n",
    "    test_recall = recall_score(y_test, y_test_pred, average='macro')\n",
    "    test_f1 = f1_score(y_test, y_test_pred, average='macro')\n",
    "\n",
    "    # Print the results\n",
    "    print(\"Parameters:\", params)\n",
    "    print(\"Training Set:\")\n",
    "    print(\"Accuracy:\", train_accuracy)\n",
    "    print(\"Precision:\", train_precision)\n",
    "    print(\"Recall:\", train_recall)\n",
    "    print(\"TP:\", train_TP)\n",
    "    print(\"FP:\", train_FP)\n",
    "    print(\"F1 Score:\", train_f1)\n",
    "    print(\"Test Set:\")\n",
    "    print(\"Accuracy:\", test_accuracy)\n",
    "    print(\"Precision:\", test_precision)\n",
    "    print(\"Recall:\", test_recall)\n",
    "    print(\"TP:\", test_TP)\n",
    "    print(\"FP:\", test_FP)\n",
    "    print(\"F1 Score:\", test_f1)\n",
    "    print(\"---------------------\")"
   ]
  },
  {
   "cell_type": "code",
   "execution_count": null,
   "id": "0d7372b4",
   "metadata": {},
   "outputs": [],
   "source": [
    "#The following cell contains the requirement for the 5th sub-part of the 3rd prt"
   ]
  },
  {
   "cell_type": "code",
   "execution_count": null,
   "id": "848360bb",
   "metadata": {},
   "outputs": [],
   "source": [
    "#reshaping the imput data to have two dimensions\n",
    "X_train_reshaped = X_train.reshape(X_train.shape[0], -1)\n",
    "X_test_reshaped = X_test.reshape(X_test.shape[0], -1)\n",
    "\n",
    "# Create a new training set and testing set with 30% instances in the testing set\n",
    "X_train_new, X_test_new, y_train_new, y_test_new = train_test_split(X_train_reshaped,y_train, test_size=0.3, random_state=42)\n",
    "\n",
    "# Fit the decision tree classifier on the new training set\n",
    "clf.fit(X_train_new, y_train_new)\n",
    "\n",
    "# Evaluate accuracy on the training set\n",
    "y_train_pred_new = clf.predict(X_train_new)\n",
    "train_accuracy_new = accuracy_score(y_train_new, y_train_pred_new)\n",
    "\n",
    "# Evaluate accuracy on the testing set\n",
    "y_test_pred_new = clf.predict(X_test_new)\n",
    "test_accuracy_new = accuracy_score(y_test_new, y_test_pred_new)\n",
    "\n",
    "# Print the accuracies\n",
    "print(\"Accuracies for 30% instances in testing set:\")\n",
    "print(\"Training Accuracy:\", train_accuracy_new)\n",
    "print(\"Testing Accuracy:\", test_accuracy_new)\n",
    "\n",
    "# Create a new training set and testing set with 60% instances in the testing set\n",
    "X_train_new2, X_test_new2, y_train_new2, y_test_new2 = train_test_split(X_train_reshaped, y_train, test_size=0.6, random_state=42)\n",
    "\n",
    "# Fit the decision tree classifier on the new training set\n",
    "clf.fit(X_train_new2, y_train_new2)\n",
    "\n",
    "# Evaluate accuracy on the training set\n",
    "y_train_pred_new2 = clf.predict(X_train_new2)\n",
    "train_accuracy_new2 = accuracy_score(y_train_new2, y_train_pred_new2)\n",
    "\n",
    "# Evaluate accuracy on the testing set\n",
    "y_test_pred_new2 = clf.predict(X_test_new2)\n",
    "test_accuracy_new2 = accuracy_score(y_test_new2, y_test_pred_new2)\n",
    "\n",
    "# Print the accuracies\n",
    "print(\"Accuracies for 60% instances in testing set:\")\n",
    "print(\"Training Accuracy:\", train_accuracy_new2)\n",
    "print(\"Testing Accuracy:\", test_accuracy_new2)"
   ]
  },
  {
   "cell_type": "code",
   "execution_count": null,
   "id": "57e80734",
   "metadata": {},
   "outputs": [],
   "source": [
    "\n",
    "#random forest clasifier\n",
    "\n",
    "#reshaping the imput data to have two dimensions\n",
    "images_train_reshaped = images.reshape(images.shape[0], -1)\n",
    "images_test_reshaped = images_test.reshape(images_test.shape[0], -1)\n",
    "X_train, X_test, y_train, y_test = train_test_split(images_train_reshaped,classes,test_size = 0.2, random_state = 42)"
   ]
  },
  {
   "cell_type": "code",
   "execution_count": null,
   "id": "22c3a592",
   "metadata": {},
   "outputs": [],
   "source": [
    "rf_classifier = RandomForestClassifier()"
   ]
  },
  {
   "cell_type": "code",
   "execution_count": null,
   "id": "f9a5a6ed",
   "metadata": {},
   "outputs": [],
   "source": [
    "rf_classifier.fit(images_train_reshaped, classes)"
   ]
  },
  {
   "cell_type": "code",
   "execution_count": null,
   "id": "ca7956b2",
   "metadata": {},
   "outputs": [],
   "source": [
    "y_train_pred_rf = rf_classifier.predict(images_train_reshaped)\n",
    "train_accuracy_rf = accuracy_score(classes, y_train_pred_rf)\n",
    "train_precision_rf = precision_score(classes, y_train_pred_rf, average='macro')\n",
    "train_recall_rf = recall_score(classes, y_train_pred_rf, average='macro')\n",
    "train_f1_rf = f1_score(classes, y_train_pred_rf, average='macro')\n",
    "# Evaluate other metrics as required\n",
    "\n",
    "y_test_pred_rf = rf_classifier.predict(images_test_reshaped)\n",
    "test_accuracy_rf = accuracy_score(classes, y_test_pred_rf)\n",
    "test_precision_rf = precision_score(y_test, y_test_pred_rf, average='macro')\n",
    "test_recall_rf = recall_score(y_test, y_test_pred_rf, average='macro')\n",
    "test_f1_rf = f1_score(y_test, y_test_pred_rf, average='macro')\n",
    "# Evaluate other metrics as required\n",
    "\n",
    "# Print the results\n",
    "print(\"Random Forest Classifier - Original Training Set:\")\n",
    "print(\"Accuracy:\", train_accuracy_rf)\n",
    "print(\"Precision:\", train_precision_rf)\n",
    "print(\"Recall:\", train_recall_rf)\n",
    "print(\"F1 Score:\", train_f1_rf)\n",
    "\n",
    "print(\"Random Forest Classifier - Test Set:\")\n",
    "print(\"Accuracy:\", test_accuracy_rf)\n",
    "print(\"Precision:\", test_precision_rf)\n",
    "print(\"Recall:\", test_recall_rf)\n",
    "print(\"F1 Score:\", test_f1_rf)"
   ]
  },
  {
   "cell_type": "code",
   "execution_count": null,
   "id": "0dba34d0",
   "metadata": {},
   "outputs": [],
   "source": [
    "from sklearn.ensemble import RandomForestClassifier\n",
    "from sklearn.metrics import accuracy_score, precision_score, recall_score, f1_score, confusion_matrix\n",
    "from sklearn.model_selection import train_test_split\n",
    "\n",
    "# Reshape the input data to have two dimensions\n",
    "images_train_reshaped = images.reshape(images.shape[0], -1)\n",
    "\n",
    "# Split the data into training and test sets\n",
    "X_train, X_test, y_train, y_test = train_test_split(images_train_reshaped, classes, test_size=0.2, random_state=42)\n",
    "\n",
    "# Create and fit the Random Forest Classifier\n",
    "rf_classifier = RandomForestClassifier()\n",
    "rf_classifier.fit(X_train, y_train)\n",
    "\n",
    "# Predict on the training set and calculate metrics\n",
    "y_train_pred_rf = rf_classifier.predict(X_train)\n",
    "train_accuracy_rf = accuracy_score(y_train, y_train_pred_rf)\n",
    "train_precision_rf = precision_score(y_train, y_train_pred_rf, average='macro')\n",
    "train_recall_rf = recall_score(y_train, y_train_pred_rf, average='macro')\n",
    "train_f1_rf = f1_score(y_train, y_train_pred_rf, average='macro')\n",
    "train_confusion_matrix_rf = confusion_matrix(y_train, y_train_pred_rf)\n",
    "train_tp_rf = train_confusion_matrix_rf.diagonal()\n",
    "train_fp_rf = train_confusion_matrix_rf.sum(axis=0) - train_tp_rf\n",
    "\n",
    "# Predict on the test set and calculate metrics\n",
    "y_test_pred_rf = rf_classifier.predict(X_test)\n",
    "test_accuracy_rf = accuracy_score(y_test, y_test_pred_rf)\n",
    "test_precision_rf = precision_score(y_test, y_test_pred_rf, average='macro')\n",
    "test_recall_rf = recall_score(y_test, y_test_pred_rf, average='macro')\n",
    "test_f1_rf = f1_score(y_test, y_test_pred_rf, average='macro')\n",
    "test_confusion_matrix_rf = confusion_matrix(y_test, y_test_pred_rf)\n",
    "test_tp_rf = test_confusion_matrix_rf.diagonal()\n",
    "test_fp_rf = test_confusion_matrix_rf.sum(axis=0) - test_tp_rf\n",
    "\n",
    "# Print the results\n",
    "print(\"Random Forest Classifier - Training Set:\")\n",
    "print(\"Accuracy:\", train_accuracy_rf)\n",
    "print(\"Precision:\", train_precision_rf)\n",
    "print(\"Recall:\", train_recall_rf)\n",
    "print(\"F1 Score:\", train_f1_rf)\n",
    "print(\"TP:\", train_tp_rf)\n",
    "print(\"FP:\", train_fp_rf)\n",
    "\n",
    "print(\"Random Forest Classifier - Test Set:\")\n",
    "print(\"Accuracy:\", test_accuracy_rf)\n",
    "print(\"Precision:\", test_precision_rf)\n",
    "print(\"Recall:\", test_recall_rf)\n",
    "print(\"F1 Score:\", test_f1_rf)\n",
    "print(\"TP:\", test_tp_rf)\n",
    "print(\"FP:\", test_fp_rf)\n"
   ]
  },
  {
   "cell_type": "code",
   "execution_count": null,
   "id": "6bad853d",
   "metadata": {},
   "outputs": [],
   "source": [
    "#This part is for the 4th part of the assignment"
   ]
  },
  {
   "cell_type": "code",
   "execution_count": null,
   "id": "9f144ef6",
   "metadata": {},
   "outputs": [],
   "source": [
    "from sklearn.linear_model import LinearRegression\n",
    "from sklearn.model_selection import cross_val_score\n",
    "from sklearn.metrics import accuracy_score\n",
    "\n",
    "# Reshape the input data to have two dimensions\n",
    "images_train_reshaped = images.reshape(images.shape[0], -1)\n",
    "\n",
    "# Split the data into training and test sets\n",
    "X_train, X_test, y_train, y_test = train_test_split(images_train_reshaped, classes, test_size=0.2, random_state=42)"
   ]
  },
  {
   "cell_type": "code",
   "execution_count": null,
   "id": "cd0766b8",
   "metadata": {},
   "outputs": [],
   "source": [
    "# Initialize the Linear classifier\n",
    "linear_clf = LinearRegression()\n",
    "\n",
    "# Fit the classifier on the training set\n",
    "linear_clf.fit(X_train, y_train)\n",
    "\n",
    "# Predict on the training set and calculate accuracy\n",
    "y_train_pred_linear = linear_clf.predict(X_train)\n",
    "train_accuracy_linear = accuracy_score(y_train, y_train_pred_linear.round())\n",
    "\n",
    "# Predict on the test set and calculate accuracy\n",
    "y_test_pred_linear = linear_clf.predict(X_test)\n",
    "test_accuracy_linear = accuracy_score(y_test, y_test_pred_linear.round())\n",
    "\n",
    "# Print the accuracies\n",
    "print(\"Linear Classifier - Training Set (without cross-validation):\")\n",
    "print(\"Accuracy:\", train_accuracy_linear)\n",
    "\n",
    "print(\"Linear Classifier - Test Set (without cross-validation):\")\n",
    "print(\"Accuracy:\", test_accuracy_linear)\n"
   ]
  },
  {
   "cell_type": "code",
   "execution_count": null,
   "id": "b7235e6a",
   "metadata": {},
   "outputs": [],
   "source": [
    "# Initialize the Linear classifier\n",
    "linear_clf_cv = LinearRegression()\n",
    "\n",
    "# Perform cross-validation and calculate the accuracies\n",
    "cv_scores = cross_val_score(linear_clf_cv, X_train, y_train, cv=10)\n",
    "cv_accuracy_mean = cv_scores.mean()\n",
    "\n",
    "# Print the cross-validation accuracy\n",
    "print(\"Linear Classifier - Cross-Validation Accuracy:\")\n",
    "print(\"Mean Accuracy:\", cv_accuracy_mean)\n"
   ]
  },
  {
   "cell_type": "code",
   "execution_count": null,
   "id": "c1023582",
   "metadata": {},
   "outputs": [],
   "source": [
    "from sklearn.neural_network import MLPClassifier\n",
    "from sklearn.model_selection import GridSearchCV\n",
    "\n",
    "# Initialize the MLP classifier\n",
    "mlp_clf = MLPClassifier(max_iter =500)\n",
    "\n",
    "# Define the parameter grid for grid search\n",
    "param_grid = {\n",
    "    'activation': ['relu', 'tanh'],\n",
    "    'hidden_layer_sizes': [(100,), (50, 50), (100, 50, 100)],\n",
    "    'learning_rate_init': [0.001, 0.01, 0.1],\n",
    "}\n",
    "\n",
    "# Perform grid search with cross-validation to find the best parameters\n",
    "grid_search = GridSearchCV(mlp_clf, param_grid, cv=5, n_jobs=-1)\n",
    "grid_search.fit(X_train, y_train)\n",
    "\n",
    "# Get the best parameters and the best MLP classifier\n",
    "best_params = grid_search.best_params_\n",
    "best_mlp_clf = grid_search.best_estimator_\n",
    "\n",
    "# Fit the best MLP classifier on the training set\n",
    "best_mlp_clf.fit(X_train, y_train)\n",
    "\n",
    "# Predict on the training set and calculate accuracy\n",
    "y_train_pred_mlp = best_mlp_clf.predict(X_train)\n",
    "train_accuracy_mlp = accuracy_score(y_train, y_train_pred_mlp)\n",
    "\n",
    "# Predict on the test set and calculate accuracy\n",
    "y_test_pred_mlp = best_mlp_clf.predict(X_test)\n",
    "test_accuracy_mlp = accuracy_score(y_test, y_test_pred_mlp)\n",
    "\n",
    "# Print the results\n",
    "print(\"Multilayer Perceptron (MLP) - Best Parameters:\")\n",
    "print(best_params)\n",
    "\n",
    "print(\"Multilayer Perceptron (MLP) - Training Set:\")\n",
    "print(\"Accuracy:\", train_accuracy_mlp)\n",
    "\n",
    "print(\"Multilayer Perceptron (MLP) - Test Set:\")\n",
    "print(\"Accuracy:\", test_accuracy_mlp)\n"
   ]
  },
  {
   "cell_type": "code",
   "execution_count": null,
   "id": "cf10de00",
   "metadata": {},
   "outputs": [],
   "source": [
    "from keras.models import Sequential\n",
    "from keras.layers import Conv2D, MaxPooling2D, Flatten, Dense\n",
    "from skimage.transform import resize\n",
    "\n",
    "\n",
    "#Defining the image size\n",
    "img_width = 100\n",
    "img_height = 100\n",
    "img_channels = 1\n",
    "num_classes = 3\n",
    "\n",
    "# Resize the images to (100, 100)\n",
    "images_train_resized = [resize(img, (100, 100)) for img in images_train]\n",
    "\n",
    "# Convert the resized images to a numpy array and add a channel dimension\n",
    "images_train_reshaped = np.array(images_train_resized).reshape(-1, 100, 100, 1)\n",
    "\n",
    "\n",
    "print(\"train image reshaped size\",images_train_reshaped.shape)\n",
    "print(\"test image reshaped size\",images_test_reshaped.shape)\n",
    "\n",
    "images_train_reshaped = images_train_reshaped.reshape(-1, 100, 100, 1)\n",
    "images_test_reshaped = images_test_reshaped.reshape(-1, 100, 100, 1)\n",
    "\n",
    "\n",
    "\n",
    "\n",
    "\n",
    "y_train_categorical = classes\n",
    "# Define and compile the CNN model\n",
    "cnn_model = Sequential()\n",
    "cnn_model.add(Conv2D(32, (3, 3), activation='relu', input_shape=(img_width, img_height, img_channels)))\n",
    "cnn_model.add(MaxPooling2D((2, 2)))\n",
    "cnn_model.add(Flatten())\n",
    "cnn_model.add(Dense(64, activation='relu'))\n",
    "cnn_model.add(Dense(num_classes, activation='softmax'))\n",
    "cnn_model.compile(optimizer='adam', loss='categorical_crossentropy', metrics=['accuracy'])\n",
    "\n",
    "\n",
    "\n",
    "# Train the CNN model\n",
    "cnn_model.fit(images_train_reshaped, y_train_categorical, epochs=10, batch_size=32, validation_split=0.2)\n",
    "\n",
    "# Evaluate the CNN model on the test set\n",
    "test_loss, test_accuracy_cnn = cnn_model.evaluate(images_test_reshaped, y_test_categorical)\n",
    "\n",
    "# Print the test accuracy for CNN\n",
    "print(\"Convolutional Neural Network (CNN) - Test Set Accuracy:\")\n",
    "print(\"Accuracy:\", test_accuracy_cnn)\n"
   ]
  },
  {
   "cell_type": "code",
   "execution_count": null,
   "id": "22034e2c",
   "metadata": {},
   "outputs": [],
   "source": [
    "pip install skimage"
   ]
  },
  {
   "cell_type": "code",
   "execution_count": null,
   "id": "02eef4aa",
   "metadata": {},
   "outputs": [],
   "source": []
  }
 ],
 "metadata": {
  "kernelspec": {
   "display_name": "Python 3 (ipykernel)",
   "language": "python",
   "name": "python3"
  },
  "language_info": {
   "codemirror_mode": {
    "name": "ipython",
    "version": 3
   },
   "file_extension": ".py",
   "mimetype": "text/x-python",
   "name": "python",
   "nbconvert_exporter": "python",
   "pygments_lexer": "ipython3",
   "version": "3.9.13"
  }
 },
 "nbformat": 4,
 "nbformat_minor": 5
}
